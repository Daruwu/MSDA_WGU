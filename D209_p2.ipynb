{
 "cells": [
  {
   "cell_type": "code",
   "execution_count": 1,
   "id": "68a070c9-030e-4a03-aebc-043f70e2642c",
   "metadata": {
    "tags": []
   },
   "outputs": [],
   "source": [
    "import pandas as pd\n",
    "import numpy as np\n",
    "from sklearn.tree import DecisionTreeClassifier\n",
    "from sklearn.model_selection import train_test_split\n",
    "from sklearn.metrics import accuracy_score\n",
    "from scipy.stats import zscore\n",
    "from sklearn.metrics import mean_squared_error, accuracy_score"
   ]
  },
  {
   "cell_type": "code",
   "execution_count": 2,
   "id": "ca93fb81-f538-4481-9ba1-bbe899b9973b",
   "metadata": {},
   "outputs": [],
   "source": [
    "# Read in the data set\n",
    "df = pd.read_csv('churn_clean.csv')"
   ]
  },
  {
   "cell_type": "code",
   "execution_count": 3,
   "id": "ba0822c8-73cf-4029-ba3a-24584f031772",
   "metadata": {},
   "outputs": [],
   "source": [
    "# Identify and drop any missing values\n",
    "df = df.drop(columns=['CaseOrder', 'Customer_id', 'Interaction', 'UID',\n",
    "                      'County', 'Zip', 'Lat', 'Lng', 'Population', 'Area', 'TimeZone', 'Job', 'Email', 'Contacts',\n",
    "                      'City', 'State', 'Marital', 'PaymentMethod', 'PaperlessBilling'])\n",
    "\n",
    "df = df.dropna()\n",
    "\n",
    "df[\"churn\"] = df[\"Churn\"].apply(lambda x: 1 if x == \"Yes\" else 0)\n",
    "df.drop(\"Churn\", axis = 1, inplace = True)"
   ]
  },
  {
   "cell_type": "code",
   "execution_count": 4,
   "id": "5bfb74e0-df75-46b5-b234-cff4dd42ac1e",
   "metadata": {},
   "outputs": [
    {
     "name": "stdout",
     "output_type": "stream",
     "text": [
      "Index(['Children', 'Age', 'Income', 'Gender', 'Outage_sec_perweek',\n",
      "       'Yearly_equip_failure', 'Techie', 'Contract', 'Port_modem', 'Tablet',\n",
      "       'InternetService', 'Phone', 'Multiple', 'OnlineSecurity',\n",
      "       'OnlineBackup', 'DeviceProtection', 'TechSupport', 'StreamingTV',\n",
      "       'StreamingMovies', 'Tenure', 'MonthlyCharge', 'Bandwidth_GB_Year',\n",
      "       'Item1', 'Item2', 'Item3', 'Item4', 'Item5', 'Item6', 'Item7', 'Item8',\n",
      "       'churn'],\n",
      "      dtype='object')\n"
     ]
    }
   ],
   "source": [
    "print (df.columns)"
   ]
  },
  {
   "cell_type": "code",
   "execution_count": 5,
   "id": "6c5177ac-2e91-4678-abb8-459f76d5a8f6",
   "metadata": {},
   "outputs": [],
   "source": [
    "# One-hot encode categorical variables\n",
    "df = pd.get_dummies(df, columns=['Gender'], prefix='Gender', drop_first=True)\n",
    "\n",
    "df = pd.get_dummies(df, columns=['Contract', 'InternetService'])"
   ]
  },
  {
   "cell_type": "code",
   "execution_count": 6,
   "id": "d38e6a7a-da1f-4669-8a02-18d13a8ce89c",
   "metadata": {},
   "outputs": [],
   "source": [
    "df.replace(to_replace={'Yes':1, 'No':0}, inplace=True)"
   ]
  },
  {
   "cell_type": "code",
   "execution_count": 7,
   "id": "e0648401-c207-48a7-a90d-1b53515451f1",
   "metadata": {},
   "outputs": [],
   "source": [
    "# Compute the Z-scores of all columns in the dataframe\n",
    "z_scores = df.apply(zscore)"
   ]
  },
  {
   "cell_type": "code",
   "execution_count": 8,
   "id": "3b98d05d-5c4f-432c-b52c-daf561ec0152",
   "metadata": {},
   "outputs": [],
   "source": [
    "# Set a threshold for the Z-scores\n",
    "threshold = 3"
   ]
  },
  {
   "cell_type": "code",
   "execution_count": 9,
   "id": "0847a9f4-e448-4a1d-8011-6536f0a70ab4",
   "metadata": {},
   "outputs": [],
   "source": [
    "# Identify rows with Z-scores above the threshold\n",
    "outliers = np.where(np.abs(z_scores) > threshold)"
   ]
  },
  {
   "cell_type": "code",
   "execution_count": 10,
   "id": "c72b367f-b831-4b91-b313-fc189deca2b6",
   "metadata": {},
   "outputs": [],
   "source": [
    "# Get the indices of the rows with outliers\n",
    "outlier_indices = list(set(outliers[0]))\n"
   ]
  },
  {
   "cell_type": "code",
   "execution_count": 11,
   "id": "a9dca3a3-bac1-4ab2-a955-6a39e02b5b12",
   "metadata": {},
   "outputs": [],
   "source": [
    "# Drop the rows with outliers\n",
    "df = df.drop(df.index[outlier_indices])"
   ]
  },
  {
   "cell_type": "code",
   "execution_count": 12,
   "id": "cafbad05-4058-44fb-94be-3d24cbfaebcd",
   "metadata": {},
   "outputs": [],
   "source": [
    "# Split the data into training and test data sets and provide the file(s).\n",
    "train, test = train_test_split(df, test_size=0.2, random_state=42)\n",
    "train.to_csv('train209p2.csv', index=False)\n",
    "test.to_csv('testd209p2.csv', index=False)"
   ]
  },
  {
   "cell_type": "code",
   "execution_count": 13,
   "id": "9116d15d-ee99-4883-8f28-ecd20a61e960",
   "metadata": {},
   "outputs": [],
   "source": [
    "# Split the data into training and test sets\n",
    "X = df.drop(['churn'], axis=1)\n",
    "y = df['churn']\n",
    "X_train, X_test, y_train, y_test = train_test_split(X, y, test_size=0.2, random_state=42)"
   ]
  },
  {
   "cell_type": "code",
   "execution_count": 14,
   "id": "3b58eeee-a638-418a-9769-3aad8363e87e",
   "metadata": {
    "tags": []
   },
   "outputs": [
    {
     "data": {
      "text/plain": [
       "DecisionTreeClassifier(max_depth=3, min_samples_leaf=5)"
      ]
     },
     "execution_count": 14,
     "metadata": {},
     "output_type": "execute_result"
    }
   ],
   "source": [
    "# Create the decision tree model\n",
    "dt = DecisionTreeClassifier(max_depth=3, min_samples_leaf=5)\n",
    "dt.fit(X_train, y_train)"
   ]
  },
  {
   "cell_type": "code",
   "execution_count": 15,
   "id": "874de195-a3d4-4bff-9da7-00356202b0ec",
   "metadata": {},
   "outputs": [],
   "source": [
    "# Predict using the test set\n",
    "y_pred = dt.predict(X_test)"
   ]
  },
  {
   "cell_type": "code",
   "execution_count": 16,
   "id": "8566d60d-66c7-4491-9f9f-28186c596a40",
   "metadata": {
    "tags": []
   },
   "outputs": [
    {
     "name": "stdout",
     "output_type": "stream",
     "text": [
      "Accuracy:  0.8372093023255814\n"
     ]
    }
   ],
   "source": [
    "# Evaluate the model's accuracy\n",
    "accuracy = accuracy_score(y_test, y_pred)\n",
    "print(\"Accuracy: \", accuracy)"
   ]
  },
  {
   "cell_type": "code",
   "execution_count": 17,
   "id": "543136c4-aa7e-4986-8934-b1a1fb24d6cc",
   "metadata": {
    "tags": []
   },
   "outputs": [
    {
     "name": "stdout",
     "output_type": "stream",
     "text": [
      "Mean Squared Error:  0.16279069767441862\n"
     ]
    }
   ],
   "source": [
    "# Calculate mean squared error of the prediction model\n",
    "mse = mean_squared_error(y_test, y_pred)\n",
    "print(\"Mean Squared Error: \", mse)"
   ]
  },
  {
   "cell_type": "code",
   "execution_count": 18,
   "id": "9fd6f8fe-eb23-4a67-a94c-1863bfd042ba",
   "metadata": {},
   "outputs": [],
   "source": [
    "df.to_csv(\"D209p2_clean.csv\", index=False)"
   ]
  }
 ],
 "metadata": {
  "kernelspec": {
   "display_name": "Python 3 (ipykernel)",
   "language": "python",
   "name": "python3"
  },
  "language_info": {
   "codemirror_mode": {
    "name": "ipython",
    "version": 3
   },
   "file_extension": ".py",
   "mimetype": "text/x-python",
   "name": "python",
   "nbconvert_exporter": "python",
   "pygments_lexer": "ipython3",
   "version": "3.9.13"
  }
 },
 "nbformat": 4,
 "nbformat_minor": 5
}
