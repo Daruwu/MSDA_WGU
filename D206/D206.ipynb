{
 "cells": [
  {
   "cell_type": "code",
   "execution_count": 1,
   "id": "2aa416cd-c51e-4beb-b109-563996d4b15b",
   "metadata": {
    "tags": []
   },
   "outputs": [],
   "source": [
    "import pandas as pd \n",
    "import numpy as np \n",
    "import scipy.stats as stats\n",
    "import matplotlib.mlab as mlab\n",
    "import matplotlib.pyplot as plt\n",
    "from sklearn.decomposition import PCA\n",
    "import seaborn as sns"
   ]
  },
  {
   "cell_type": "code",
   "execution_count": 2,
   "id": "e8cc7994-997e-4f38-bbea-d61124362445",
   "metadata": {},
   "outputs": [
    {
     "name": "stdout",
     "output_type": "stream",
     "text": [
      "      Unnamed: 0  CaseOrder Customer_id                           Interaction  \\\n",
      "0              1          1     C412403  8cd49b13-f45a-4b47-a2bd-173ffa932c2f   \n",
      "1              2          2     Z919181  d2450b70-0337-4406-bdbb-bc1037f1734c   \n",
      "2              3          3     F995323  a2057123-abf5-4a2c-abad-8ffe33512562   \n",
      "3              4          4     A879973  1dec528d-eb34-4079-adce-0d7a40e82205   \n",
      "4              5          5     C544523  5885f56b-d6da-43a3-8760-83583af94266   \n",
      "...          ...        ...         ...                                   ...   \n",
      "9995        9996       9996     B863060  a25b594d-0328-486f-a9b9-0567eb0f9723   \n",
      "9996        9997       9997     P712040  70711574-f7b1-4a17-b15f-48c54564b70f   \n",
      "9997        9998       9998     R778890  1d79569d-8e0f-4180-a207-d67ee4527d26   \n",
      "9998        9999       9999     E344109  f5a68e69-2a60-409b-a92f-ac0847b27db0   \n",
      "9999       10000      10000     I569847  bc482c02-f8c9-4423-99de-3db5e62a18d5   \n",
      "\n",
      "                                   UID          City State        County  \\\n",
      "0     3a83ddb66e2ae73798bdf1d705dc0932           Eva    AL        Morgan   \n",
      "1     176354c5eef714957d486009feabf195      Marianna    FL       Jackson   \n",
      "2     e19a0fa00aeda885b8a436757e889bc9   Sioux Falls    SD     Minnehaha   \n",
      "3     cd17d7b6d152cb6f23957346d11c3f07  New Richland    MN        Waseca   \n",
      "4     d2f0425877b10ed6bb381f3e2579424a    West Point    VA  King William   \n",
      "...                                ...           ...   ...           ...   \n",
      "9995  39184dc28cc038871912ccc4500049e5       Norlina    NC        Warren   \n",
      "9996  3cd124ccd43147404292e883bf9ec55c        Milmay    NJ      Atlantic   \n",
      "9997  41b770aeee97a5b9e7f69c906a8119d7     Southside    TN    Montgomery   \n",
      "9998  2bb491ef5b1beb1fed758cc6885c167a         Quinn    SD    Pennington   \n",
      "9999  95663a202338000abdf7e09311c2a8a1    Coraopolis    PA     Allegheny   \n",
      "\n",
      "        Zip       Lat  ...  TotalCharge  Additional_charges Item1 Item2 Item3  \\\n",
      "0     35621  34.34960  ...  3191.048774        17939.403420     3     3     2   \n",
      "1     32446  30.84513  ...  4214.905346        17612.998120     3     4     3   \n",
      "2     57110  43.54321  ...  2177.586768        17505.192460     2     4     4   \n",
      "3     56072  43.89744  ...  2465.118965        12993.437350     3     5     5   \n",
      "4     23181  37.59894  ...  1885.655137         3716.525786     2     1     3   \n",
      "...     ...       ...  ...          ...                 ...   ...   ...   ...   \n",
      "9995  27563  36.42886  ...  6651.241294         8927.642189     3     2     2   \n",
      "9996   8340  39.43609  ...  7851.522660        28507.147340     3     3     4   \n",
      "9997  37171  36.36655  ...  7725.953391        15281.214660     3     3     3   \n",
      "9998  57775  44.10354  ...  8462.831883         7781.678412     5     5     3   \n",
      "9999  15108  40.49998  ...  8700.856021        11643.189930     4     3     3   \n",
      "\n",
      "      Item4  Item5 Item6 Item7  Item8  \n",
      "0         2      4     3     3      4  \n",
      "1         4      4     4     3      3  \n",
      "2         4      3     4     3      3  \n",
      "3         3      4     5     5      5  \n",
      "4         3      5     3     4      3  \n",
      "...     ...    ...   ...   ...    ...  \n",
      "9995      3      4     3     4      2  \n",
      "9996      2      5     3     4      4  \n",
      "9997      4      4     2     3      2  \n",
      "9998      4      4     3     4      3  \n",
      "9999      2      3     6     4      3  \n",
      "\n",
      "[10000 rows x 53 columns]\n"
     ]
    }
   ],
   "source": [
    "df = pd.read_csv('medical_raw_data.csv')\n",
    "df = df.fillna((0))\n",
    "\n",
    "print(df) "
   ]
  },
  {
   "cell_type": "code",
   "execution_count": 3,
   "id": "b43e4834-048d-4024-8339-a4c1e11ac380",
   "metadata": {},
   "outputs": [
    {
     "name": "stdout",
     "output_type": "stream",
     "text": [
      "0       1\n",
      "1       1\n",
      "2       1\n",
      "3       0\n",
      "4       0\n",
      "       ..\n",
      "9995    1\n",
      "9996    1\n",
      "9997    1\n",
      "9998    0\n",
      "9999    0\n",
      "Name: HighBlood, Length: 10000, dtype: int64\n"
     ]
    }
   ],
   "source": [
    "df = df.replace(to_replace = {'HighBlood': {'Yes' : 1 , 'No' : 0}})\n",
    "print (df['HighBlood'])"
   ]
  },
  {
   "cell_type": "code",
   "execution_count": 4,
   "id": "3738f91b-3143-4223-b0e2-412c8d17bfdc",
   "metadata": {},
   "outputs": [
    {
     "name": "stdout",
     "output_type": "stream",
     "text": [
      "0       0\n",
      "1       0\n",
      "2       0\n",
      "3       1\n",
      "4       0\n",
      "       ..\n",
      "9995    0\n",
      "9996    0\n",
      "9997    0\n",
      "9998    0\n",
      "9999    0\n",
      "Name: Stroke, Length: 10000, dtype: int64\n"
     ]
    }
   ],
   "source": [
    "df = df.replace(to_replace = {'Stroke': {'Yes' : 1 , 'No' : 0}})\n",
    "print (df['Stroke'])"
   ]
  },
  {
   "cell_type": "code",
   "execution_count": 5,
   "id": "33df2696-e4fd-472e-b39e-f4cf39b2394b",
   "metadata": {},
   "outputs": [
    {
     "name": "stdout",
     "output_type": "stream",
     "text": [
      "0       0\n",
      "1       1\n",
      "2       1\n",
      "3       0\n",
      "4       0\n",
      "       ..\n",
      "9995    0\n",
      "9996    1\n",
      "9997    1\n",
      "9998    1\n",
      "9999    1\n",
      "Name: Overweight, Length: 10000, dtype: int32\n"
     ]
    }
   ],
   "source": [
    "df = df.replace(to_replace = {'Overweight': {'Yes' : (1) , 'No' : (0)}})\n",
    "df['Overweight'] = df['Overweight'].astype(int)\n",
    "\n",
    "print (df['Overweight'])"
   ]
  },
  {
   "cell_type": "code",
   "execution_count": 6,
   "id": "0a3e709f-581b-4b38-a19c-a18e2bf8aa0f",
   "metadata": {},
   "outputs": [
    {
     "name": "stdout",
     "output_type": "stream",
     "text": [
      "0       1\n",
      "1       0\n",
      "2       0\n",
      "3       1\n",
      "4       0\n",
      "       ..\n",
      "9995    0\n",
      "9996    1\n",
      "9997    0\n",
      "9998    0\n",
      "9999    1\n",
      "Name: Arthritis, Length: 10000, dtype: int64\n"
     ]
    }
   ],
   "source": [
    "df = df.replace(to_replace = {'Arthritis': {'Yes' : 1 , 'No' : 0, 'NA' : 0}})\n",
    "print (df['Arthritis'])"
   ]
  },
  {
   "cell_type": "code",
   "execution_count": 7,
   "id": "947bc84b-275c-4d16-bed3-bdc574572196",
   "metadata": {},
   "outputs": [
    {
     "name": "stdout",
     "output_type": "stream",
     "text": [
      "0       1\n",
      "1       0\n",
      "2       1\n",
      "3       0\n",
      "4       0\n",
      "       ..\n",
      "9995    0\n",
      "9996    1\n",
      "9997    0\n",
      "9998    0\n",
      "9999    0\n",
      "Name: Diabetes, Length: 10000, dtype: int64\n"
     ]
    }
   ],
   "source": [
    "df = df.replace(to_replace = {'Diabetes': {'Yes' : 1 , 'No' : 0}})\n",
    "print (df['Diabetes'])"
   ]
  },
  {
   "cell_type": "code",
   "execution_count": 8,
   "id": "ab8512fc-3409-4743-adc1-ce7374f7f398",
   "metadata": {},
   "outputs": [
    {
     "name": "stdout",
     "output_type": "stream",
     "text": [
      "0       0\n",
      "1       0\n",
      "2       0\n",
      "3       0\n",
      "4       1\n",
      "       ..\n",
      "9995    0\n",
      "9996    0\n",
      "9997    0\n",
      "9998    0\n",
      "9999    1\n",
      "Name: Hyperlipidemia, Length: 10000, dtype: int64\n"
     ]
    }
   ],
   "source": [
    "df = df.replace(to_replace = {'Hyperlipidemia': {'Yes' : 1 , 'No' : 0}})\n",
    "print (df['Hyperlipidemia'])"
   ]
  },
  {
   "cell_type": "code",
   "execution_count": 9,
   "id": "ce58c159-3843-40a4-974b-52fc4e8418ad",
   "metadata": {},
   "outputs": [
    {
     "name": "stdout",
     "output_type": "stream",
     "text": [
      "0       1\n",
      "1       0\n",
      "2       0\n",
      "3       0\n",
      "4       0\n",
      "       ..\n",
      "9995    0\n",
      "9996    0\n",
      "9997    0\n",
      "9998    1\n",
      "9999    0\n",
      "Name: BackPain, Length: 10000, dtype: int64\n"
     ]
    }
   ],
   "source": [
    "df = df.replace(to_replace = {'BackPain': {'Yes' : 1 , 'No' : 0}})\n",
    "print (df['BackPain'])"
   ]
  },
  {
   "cell_type": "code",
   "execution_count": 10,
   "id": "d045b57a-0267-41a5-a26a-3868c718cf55",
   "metadata": {},
   "outputs": [
    {
     "name": "stdout",
     "output_type": "stream",
     "text": [
      "0       1\n",
      "1       0\n",
      "2       0\n",
      "3       0\n",
      "4       0\n",
      "       ..\n",
      "9995    1\n",
      "9996    0\n",
      "9997    1\n",
      "9998    0\n",
      "9999    0\n",
      "Name: Anxiety, Length: 10000, dtype: int32\n"
     ]
    }
   ],
   "source": [
    "df = df.replace(to_replace = {'Anxiety': {'Yes' : 1 , 'No' : 0}})\n",
    "df['Anxiety'] = df['Anxiety'].astype(int)\n",
    "\n",
    "print (df['Anxiety'])"
   ]
  },
  {
   "cell_type": "code",
   "execution_count": 11,
   "id": "19bb68dd-0bb8-4279-8fba-f0626ada1c9c",
   "metadata": {},
   "outputs": [
    {
     "name": "stdout",
     "output_type": "stream",
     "text": [
      "0       1\n",
      "1       0\n",
      "2       0\n",
      "3       0\n",
      "4       1\n",
      "       ..\n",
      "9995    0\n",
      "9996    0\n",
      "9997    1\n",
      "9998    0\n",
      "9999    1\n",
      "Name: Allergic_rhinitis, Length: 10000, dtype: int64\n"
     ]
    }
   ],
   "source": [
    "df = df.replace(to_replace = {'Allergic_rhinitis': {'Yes' : 1 , 'No' : 0}})\n",
    "print (df['Allergic_rhinitis'])"
   ]
  },
  {
   "cell_type": "code",
   "execution_count": 12,
   "id": "60d6b5cf-d058-4d09-82e3-4310a3a6e0e0",
   "metadata": {},
   "outputs": [
    {
     "name": "stdout",
     "output_type": "stream",
     "text": [
      "0       0\n",
      "1       1\n",
      "2       0\n",
      "3       1\n",
      "4       0\n",
      "       ..\n",
      "9995    1\n",
      "9996    0\n",
      "9997    0\n",
      "9998    0\n",
      "9999    0\n",
      "Name: Reflux_esophagitis, Length: 10000, dtype: int64\n"
     ]
    }
   ],
   "source": [
    "df = df.replace(to_replace = {'Reflux_esophagitis': {'Yes' : 1 , 'No' : 0}})\n",
    "print (df['Reflux_esophagitis'])"
   ]
  },
  {
   "cell_type": "code",
   "execution_count": 13,
   "id": "d37562f8-4533-4979-9dea-0589a7feb17c",
   "metadata": {},
   "outputs": [
    {
     "name": "stdout",
     "output_type": "stream",
     "text": [
      "0       1\n",
      "1       0\n",
      "2       0\n",
      "3       1\n",
      "4       0\n",
      "       ..\n",
      "9995    0\n",
      "9996    1\n",
      "9997    0\n",
      "9998    0\n",
      "9999    0\n",
      "Name: Asthma, Length: 10000, dtype: int64\n"
     ]
    }
   ],
   "source": [
    "df = df.replace(to_replace = {'Asthma': {'Yes' : 1 , 'No' : 0}})\n",
    "print (df['Asthma'])"
   ]
  },
  {
   "cell_type": "code",
   "execution_count": 14,
   "id": "4b6ebbb4-00e9-4422-8856-a90c3aa24191",
   "metadata": {},
   "outputs": [
    {
     "name": "stdout",
     "output_type": "stream",
     "text": [
      "0       6\n",
      "1       3\n",
      "2       3\n",
      "3       4\n",
      "4       1\n",
      "       ..\n",
      "9995    3\n",
      "9996    5\n",
      "9997    3\n",
      "9998    2\n",
      "9999    3\n",
      "Name: health_score, Length: 10000, dtype: int32\n"
     ]
    }
   ],
   "source": [
    "df['health_score'] = pd.Series(df.apply(lambda x: x['HighBlood'] + x['Stroke']+ x['Overweight'] + x['Arthritis']+ x['Diabetes'] + x['Hyperlipidemia'] + x['BackPain'] + x['Anxiety'] + x['Reflux_esophagitis']+ x['Asthma'], axis=1))\n",
    "df['health_score'] = df['health_score'].astype(int)\n",
    "\n",
    "\n",
    "print (df['health_score'])"
   ]
  },
  {
   "cell_type": "code",
   "execution_count": 15,
   "id": "2d9bdb34-8a9b-42c7-ab60-b7799dac7433",
   "metadata": {},
   "outputs": [
    {
     "name": "stdout",
     "output_type": "stream",
     "text": [
      "      Unnamed: 0  CaseOrder Customer_id                           Interaction  \\\n",
      "0              1          1     C412403  8cd49b13-f45a-4b47-a2bd-173ffa932c2f   \n",
      "1              2          2     Z919181  d2450b70-0337-4406-bdbb-bc1037f1734c   \n",
      "2              3          3     F995323  a2057123-abf5-4a2c-abad-8ffe33512562   \n",
      "3              4          4     A879973  1dec528d-eb34-4079-adce-0d7a40e82205   \n",
      "4              5          5     C544523  5885f56b-d6da-43a3-8760-83583af94266   \n",
      "...          ...        ...         ...                                   ...   \n",
      "9995        9996       9996     B863060  a25b594d-0328-486f-a9b9-0567eb0f9723   \n",
      "9996        9997       9997     P712040  70711574-f7b1-4a17-b15f-48c54564b70f   \n",
      "9997        9998       9998     R778890  1d79569d-8e0f-4180-a207-d67ee4527d26   \n",
      "9998        9999       9999     E344109  f5a68e69-2a60-409b-a92f-ac0847b27db0   \n",
      "9999       10000      10000     I569847  bc482c02-f8c9-4423-99de-3db5e62a18d5   \n",
      "\n",
      "                                   UID          City State        County  \\\n",
      "0     3a83ddb66e2ae73798bdf1d705dc0932           Eva    AL        Morgan   \n",
      "1     176354c5eef714957d486009feabf195      Marianna    FL       Jackson   \n",
      "2     e19a0fa00aeda885b8a436757e889bc9   Sioux Falls    SD     Minnehaha   \n",
      "3     cd17d7b6d152cb6f23957346d11c3f07  New Richland    MN        Waseca   \n",
      "4     d2f0425877b10ed6bb381f3e2579424a    West Point    VA  King William   \n",
      "...                                ...           ...   ...           ...   \n",
      "9995  39184dc28cc038871912ccc4500049e5       Norlina    NC        Warren   \n",
      "9996  3cd124ccd43147404292e883bf9ec55c        Milmay    NJ      Atlantic   \n",
      "9997  41b770aeee97a5b9e7f69c906a8119d7     Southside    TN    Montgomery   \n",
      "9998  2bb491ef5b1beb1fed758cc6885c167a         Quinn    SD    Pennington   \n",
      "9999  95663a202338000abdf7e09311c2a8a1    Coraopolis    PA     Allegheny   \n",
      "\n",
      "        Zip       Lat  ...  Additional_charges  Item1 Item2 Item3 Item4  \\\n",
      "0     35621  34.34960  ...        17939.403420      3     3     2     2   \n",
      "1     32446  30.84513  ...        17612.998120      3     4     3     4   \n",
      "2     57110  43.54321  ...        17505.192460      2     4     4     4   \n",
      "3     56072  43.89744  ...        12993.437350      3     5     5     3   \n",
      "4     23181  37.59894  ...         3716.525786      2     1     3     3   \n",
      "...     ...       ...  ...                 ...    ...   ...   ...   ...   \n",
      "9995  27563  36.42886  ...         8927.642189      3     2     2     3   \n",
      "9996   8340  39.43609  ...        28507.147340      3     3     4     2   \n",
      "9997  37171  36.36655  ...        15281.214660      3     3     3     4   \n",
      "9998  57775  44.10354  ...         7781.678412      5     5     3     4   \n",
      "9999  15108  40.49998  ...        11643.189930      4     3     3     2   \n",
      "\n",
      "      Item5  Item6 Item7 Item8  health_score  \n",
      "0         4      3     3     4             6  \n",
      "1         4      4     3     3             3  \n",
      "2         3      4     3     3             3  \n",
      "3         4      5     5     5             4  \n",
      "4         5      3     4     3             1  \n",
      "...     ...    ...   ...   ...           ...  \n",
      "9995      4      3     4     2             3  \n",
      "9996      5      3     4     4             5  \n",
      "9997      4      2     3     2             3  \n",
      "9998      4      3     4     3             2  \n",
      "9999      3      6     4     3             3  \n",
      "\n",
      "[10000 rows x 54 columns]\n"
     ]
    }
   ],
   "source": [
    "print (df)"
   ]
  },
  {
   "cell_type": "code",
   "execution_count": 16,
   "id": "77a1a5d7-b39a-4ce9-a606-74a601b6c2d5",
   "metadata": {},
   "outputs": [
    {
     "name": "stdout",
     "output_type": "stream",
     "text": [
      "0       6\n",
      "1       3\n",
      "2       3\n",
      "3       4\n",
      "4       1\n",
      "       ..\n",
      "9995    3\n",
      "9996    5\n",
      "9997    3\n",
      "9998    2\n",
      "9999    3\n",
      "Name: health_score, Length: 10000, dtype: int32\n"
     ]
    }
   ],
   "source": [
    "hs = df.loc[ : , 'health_score']\n",
    "\n",
    "print (hs)"
   ]
  },
  {
   "cell_type": "code",
   "execution_count": 17,
   "id": "d9ed2902-333a-448d-ae3b-bca9c29c8088",
   "metadata": {},
   "outputs": [
    {
     "data": {
      "text/plain": [
       "0    1.606055\n",
       "1   -0.419235\n",
       "2   -0.419235\n",
       "3    0.255862\n",
       "4   -1.769428\n",
       "Name: zscore_hs, dtype: float64"
      ]
     },
     "execution_count": 17,
     "metadata": {},
     "output_type": "execute_result"
    }
   ],
   "source": [
    "df['zscore_hs'] = stats.zscore(hs)\n",
    "df['zscore_hs'].head()"
   ]
  },
  {
   "cell_type": "code",
   "execution_count": 18,
   "id": "fe9737e8-a0e4-4ef7-b1d8-b61083a382d8",
   "metadata": {},
   "outputs": [
    {
     "name": "stdout",
     "output_type": "stream",
     "text": [
      "0       6\n",
      "1       4\n",
      "2       4\n",
      "3       4\n",
      "4       5\n",
      "       ..\n",
      "9995    4\n",
      "9996    5\n",
      "9997    4\n",
      "9998    5\n",
      "9999    5\n",
      "Name: Doc_visits, Length: 10000, dtype: int64\n"
     ]
    }
   ],
   "source": [
    "dv = df.loc[ : , 'Doc_visits']\n",
    "\n",
    "print (dv)"
   ]
  },
  {
   "cell_type": "code",
   "execution_count": 19,
   "id": "397ad485-e6d7-4f60-84bf-8d0a042aedc2",
   "metadata": {},
   "outputs": [
    {
     "data": {
      "text/plain": [
       "0    0.944647\n",
       "1   -0.967981\n",
       "2   -0.967981\n",
       "3   -0.967981\n",
       "4   -0.011667\n",
       "Name: zscore_dv, dtype: float64"
      ]
     },
     "execution_count": 19,
     "metadata": {},
     "output_type": "execute_result"
    }
   ],
   "source": [
    "df['zscore_dv'] = stats.zscore(dv)\n",
    "df['zscore_dv'].head()"
   ]
  },
  {
   "cell_type": "code",
   "execution_count": 20,
   "id": "339c063e-2701-4baa-80bb-b83ceca04ede",
   "metadata": {},
   "outputs": [
    {
     "name": "stdout",
     "output_type": "stream",
     "text": [
      "<class 'pandas.core.frame.DataFrame'>\n",
      "RangeIndex: 10000 entries, 0 to 9999\n",
      "Data columns (total 56 columns):\n",
      " #   Column              Non-Null Count  Dtype  \n",
      "---  ------              --------------  -----  \n",
      " 0   Unnamed: 0          10000 non-null  int64  \n",
      " 1   CaseOrder           10000 non-null  int64  \n",
      " 2   Customer_id         10000 non-null  object \n",
      " 3   Interaction         10000 non-null  object \n",
      " 4   UID                 10000 non-null  object \n",
      " 5   City                10000 non-null  object \n",
      " 6   State               10000 non-null  object \n",
      " 7   County              10000 non-null  object \n",
      " 8   Zip                 10000 non-null  int64  \n",
      " 9   Lat                 10000 non-null  float64\n",
      " 10  Lng                 10000 non-null  float64\n",
      " 11  Population          10000 non-null  int64  \n",
      " 12  Area                10000 non-null  object \n",
      " 13  Timezone            10000 non-null  object \n",
      " 14  Job                 10000 non-null  object \n",
      " 15  Children            10000 non-null  float64\n",
      " 16  Age                 10000 non-null  float64\n",
      " 17  Education           10000 non-null  object \n",
      " 18  Employment          10000 non-null  object \n",
      " 19  Income              10000 non-null  float64\n",
      " 20  Marital             10000 non-null  object \n",
      " 21  Gender              10000 non-null  object \n",
      " 22  ReAdmis             10000 non-null  object \n",
      " 23  VitD_levels         10000 non-null  float64\n",
      " 24  Doc_visits          10000 non-null  int64  \n",
      " 25  Full_meals_eaten    10000 non-null  int64  \n",
      " 26  VitD_supp           10000 non-null  int64  \n",
      " 27  Soft_drink          10000 non-null  object \n",
      " 28  Initial_admin       10000 non-null  object \n",
      " 29  HighBlood           10000 non-null  int64  \n",
      " 30  Stroke              10000 non-null  int64  \n",
      " 31  Complication_risk   10000 non-null  object \n",
      " 32  Overweight          10000 non-null  int32  \n",
      " 33  Arthritis           10000 non-null  int64  \n",
      " 34  Diabetes            10000 non-null  int64  \n",
      " 35  Hyperlipidemia      10000 non-null  int64  \n",
      " 36  BackPain            10000 non-null  int64  \n",
      " 37  Anxiety             10000 non-null  int32  \n",
      " 38  Allergic_rhinitis   10000 non-null  int64  \n",
      " 39  Reflux_esophagitis  10000 non-null  int64  \n",
      " 40  Asthma              10000 non-null  int64  \n",
      " 41  Services            10000 non-null  object \n",
      " 42  Initial_days        10000 non-null  float64\n",
      " 43  TotalCharge         10000 non-null  float64\n",
      " 44  Additional_charges  10000 non-null  float64\n",
      " 45  Item1               10000 non-null  int64  \n",
      " 46  Item2               10000 non-null  int64  \n",
      " 47  Item3               10000 non-null  int64  \n",
      " 48  Item4               10000 non-null  int64  \n",
      " 49  Item5               10000 non-null  int64  \n",
      " 50  Item6               10000 non-null  int64  \n",
      " 51  Item7               10000 non-null  int64  \n",
      " 52  Item8               10000 non-null  int64  \n",
      " 53  health_score        10000 non-null  int32  \n",
      " 54  zscore_hs           10000 non-null  float64\n",
      " 55  zscore_dv           10000 non-null  float64\n",
      "dtypes: float64(11), int32(3), int64(24), object(18)\n",
      "memory usage: 4.2+ MB\n"
     ]
    }
   ],
   "source": [
    "df.info()"
   ]
  },
  {
   "cell_type": "code",
   "execution_count": 21,
   "id": "f31430a8-441b-412b-ba86-b8fe78d956dd",
   "metadata": {},
   "outputs": [
    {
     "data": {
      "text/plain": [
       "array([[<AxesSubplot:title={'center':'health_score'}>]], dtype=object)"
      ]
     },
     "execution_count": 21,
     "metadata": {},
     "output_type": "execute_result"
    },
    {
     "data": {
      "image/png": "[encoded data removed]",
      "text/plain": [
       "<Figure size 640x480 with 1 Axes>"
      ]
     },
     "metadata": {},
     "output_type": "display_data"
    }
   ],
   "source": [
    "df.hist(['health_score'])"
   ]
  },
  {
   "cell_type": "code",
   "execution_count": 22,
   "id": "85f0ed2e-6564-47c1-9326-f3e5fd597432",
   "metadata": {},
   "outputs": [
    {
     "data": {
      "text/plain": [
       "<AxesSubplot:>"
      ]
     },
     "execution_count": 22,
     "metadata": {},
     "output_type": "execute_result"
    },
    {
     "data": {
      "image/png": "[encoded data removed]",
      "text/plain": [
       "<Figure size 640x480 with 1 Axes>"
      ]
     },
     "metadata": {},
     "output_type": "display_data"
    }
   ],
   "source": [
    "df.boxplot('health_score')"
   ]
  },
  {
   "cell_type": "code",
   "execution_count": 23,
   "id": "40bc241a-6b01-4a20-b1a0-27570a255026",
   "metadata": {},
   "outputs": [
    {
     "data": {
      "text/plain": [
       "<AxesSubplot:>"
      ]
     },
     "execution_count": 23,
     "metadata": {},
     "output_type": "execute_result"
    },
    {
     "data": {
      "image/png": "[encoded data removed]",
      "text/plain": [
       "<Figure size 640x480 with 1 Axes>"
      ]
     },
     "metadata": {},
     "output_type": "display_data"
    }
   ],
   "source": [
    "df.boxplot('Doc_visits')"
   ]
  },
  {
   "cell_type": "code",
   "execution_count": 24,
   "id": "2c5b717c-8bc3-4331-b201-89bad38086b9",
   "metadata": {},
   "outputs": [
    {
     "data": {
      "text/plain": [
       "array([[<AxesSubplot:title={'center':'Doc_visits'}>]], dtype=object)"
      ]
     },
     "execution_count": 24,
     "metadata": {},
     "output_type": "execute_result"
    },
    {
     "data": {
      "image/png": "[encoded data removed]",
      "text/plain": [
       "<Figure size 640x480 with 1 Axes>"
      ]
     },
     "metadata": {},
     "output_type": "display_data"
    }
   ],
   "source": [
    "df.hist('Doc_visits')"
   ]
  },
  {
   "cell_type": "code",
   "execution_count": 25,
   "id": "a90b4252-eeeb-4150-a5e4-43e7a3ff6512",
   "metadata": {},
   "outputs": [
    {
     "data": {
      "text/plain": [
       "True"
      ]
     },
     "execution_count": 25,
     "metadata": {},
     "output_type": "execute_result"
    }
   ],
   "source": [
    "df['health_score'].notnull().any()"
   ]
  },
  {
   "cell_type": "code",
   "execution_count": 26,
   "id": "74ff49e0-247e-4d02-9d19-c543e3de25a3",
   "metadata": {},
   "outputs": [
    {
     "data": {
      "text/plain": [
       "True"
      ]
     },
     "execution_count": 26,
     "metadata": {},
     "output_type": "execute_result"
    }
   ],
   "source": [
    "df['Doc_visits'].notnull().any()"
   ]
  },
  {
   "cell_type": "code",
   "execution_count": 27,
   "id": "4d5232b2-4633-4bc7-828a-0e3fae552141",
   "metadata": {},
   "outputs": [
    {
     "name": "stdout",
     "output_type": "stream",
     "text": [
      "<class 'pandas.core.frame.DataFrame'>\n",
      "RangeIndex: 10000 entries, 0 to 9999\n",
      "Data columns (total 56 columns):\n",
      " #   Column              Non-Null Count  Dtype  \n",
      "---  ------              --------------  -----  \n",
      " 0   Unnamed: 0          10000 non-null  int64  \n",
      " 1   CaseOrder           10000 non-null  int64  \n",
      " 2   Customer_id         10000 non-null  object \n",
      " 3   Interaction         10000 non-null  object \n",
      " 4   UID                 10000 non-null  object \n",
      " 5   City                10000 non-null  object \n",
      " 6   State               10000 non-null  object \n",
      " 7   County              10000 non-null  object \n",
      " 8   Zip                 10000 non-null  int64  \n",
      " 9   Lat                 10000 non-null  float64\n",
      " 10  Lng                 10000 non-null  float64\n",
      " 11  Population          10000 non-null  int64  \n",
      " 12  Area                10000 non-null  object \n",
      " 13  Timezone            10000 non-null  object \n",
      " 14  Job                 10000 non-null  object \n",
      " 15  Children            10000 non-null  float64\n",
      " 16  Age                 10000 non-null  float64\n",
      " 17  Education           10000 non-null  object \n",
      " 18  Employment          10000 non-null  object \n",
      " 19  Income              10000 non-null  float64\n",
      " 20  Marital             10000 non-null  object \n",
      " 21  Gender              10000 non-null  object \n",
      " 22  ReAdmis             10000 non-null  object \n",
      " 23  VitD_levels         10000 non-null  float64\n",
      " 24  Doc_visits          10000 non-null  int64  \n",
      " 25  Full_meals_eaten    10000 non-null  int64  \n",
      " 26  VitD_supp           10000 non-null  int64  \n",
      " 27  Soft_drink          10000 non-null  object \n",
      " 28  Initial_admin       10000 non-null  object \n",
      " 29  HighBlood           10000 non-null  int64  \n",
      " 30  Stroke              10000 non-null  int64  \n",
      " 31  Complication_risk   10000 non-null  object \n",
      " 32  Overweight          10000 non-null  int32  \n",
      " 33  Arthritis           10000 non-null  int64  \n",
      " 34  Diabetes            10000 non-null  int64  \n",
      " 35  Hyperlipidemia      10000 non-null  int64  \n",
      " 36  BackPain            10000 non-null  int64  \n",
      " 37  Anxiety             10000 non-null  int32  \n",
      " 38  Allergic_rhinitis   10000 non-null  int64  \n",
      " 39  Reflux_esophagitis  10000 non-null  int64  \n",
      " 40  Asthma              10000 non-null  int64  \n",
      " 41  Services            10000 non-null  object \n",
      " 42  Initial_days        10000 non-null  float64\n",
      " 43  TotalCharge         10000 non-null  float64\n",
      " 44  Additional_charges  10000 non-null  float64\n",
      " 45  Item1               10000 non-null  int64  \n",
      " 46  Item2               10000 non-null  int64  \n",
      " 47  Item3               10000 non-null  int64  \n",
      " 48  Item4               10000 non-null  int64  \n",
      " 49  Item5               10000 non-null  int64  \n",
      " 50  Item6               10000 non-null  int64  \n",
      " 51  Item7               10000 non-null  int64  \n",
      " 52  Item8               10000 non-null  int64  \n",
      " 53  health_score        10000 non-null  int32  \n",
      " 54  zscore_hs           10000 non-null  float64\n",
      " 55  zscore_dv           10000 non-null  float64\n",
      "dtypes: float64(11), int32(3), int64(24), object(18)\n",
      "memory usage: 4.2+ MB\n"
     ]
    }
   ],
   "source": [
    "df.info()"
   ]
  },
  {
   "cell_type": "code",
   "execution_count": 28,
   "id": "cb5ac3b7-f168-447b-9793-e3116970d8c1",
   "metadata": {},
   "outputs": [
    {
     "data": {
      "text/plain": [
       "array([[<AxesSubplot:title={'center':'zscore_hs'}>]], dtype=object)"
      ]
     },
     "execution_count": 28,
     "metadata": {},
     "output_type": "execute_result"
    },
    {
     "data": {
      "image/png": "[encoded data removed]",
      "text/plain": [
       "<Figure size 640x480 with 1 Axes>"
      ]
     },
     "metadata": {},
     "output_type": "display_data"
    }
   ],
   "source": [
    "df.hist(['zscore_hs'])"
   ]
  },
  {
   "cell_type": "code",
   "execution_count": 29,
   "id": "afa6fbf3-8cd5-48b9-a02f-a99b47ff7fab",
   "metadata": {},
   "outputs": [
    {
     "data": {
      "text/plain": [
       "array([[<AxesSubplot:title={'center':'zscore_dv'}>]], dtype=object)"
      ]
     },
     "execution_count": 29,
     "metadata": {},
     "output_type": "execute_result"
    },
    {
     "data": {
      "image/png": "[encoded data removed]",
      "text/plain": [
       "<Figure size 640x480 with 1 Axes>"
      ]
     },
     "metadata": {},
     "output_type": "display_data"
    }
   ],
   "source": [
    "df.hist(['zscore_dv'])"
   ]
  },
  {
   "cell_type": "code",
   "execution_count": 30,
   "id": "07f74207-dc5c-451b-87d8-af8e7b45c857",
   "metadata": {},
   "outputs": [
    {
     "name": "stdout",
     "output_type": "stream",
     "text": [
      "<class 'pandas.core.frame.DataFrame'>\n",
      "RangeIndex: 10000 entries, 0 to 9999\n",
      "Data columns (total 56 columns):\n",
      " #   Column              Non-Null Count  Dtype  \n",
      "---  ------              --------------  -----  \n",
      " 0   Unnamed: 0          10000 non-null  int64  \n",
      " 1   CaseOrder           10000 non-null  int64  \n",
      " 2   Customer_id         10000 non-null  object \n",
      " 3   Interaction         10000 non-null  object \n",
      " 4   UID                 10000 non-null  object \n",
      " 5   City                10000 non-null  object \n",
      " 6   State               10000 non-null  object \n",
      " 7   County              10000 non-null  object \n",
      " 8   Zip                 10000 non-null  int64  \n",
      " 9   Lat                 10000 non-null  float64\n",
      " 10  Lng                 10000 non-null  float64\n",
      " 11  Population          10000 non-null  int64  \n",
      " 12  Area                10000 non-null  object \n",
      " 13  Timezone            10000 non-null  object \n",
      " 14  Job                 10000 non-null  object \n",
      " 15  Children            10000 non-null  float64\n",
      " 16  Age                 10000 non-null  float64\n",
      " 17  Education           10000 non-null  object \n",
      " 18  Employment          10000 non-null  object \n",
      " 19  Income              10000 non-null  float64\n",
      " 20  Marital             10000 non-null  object \n",
      " 21  Gender              10000 non-null  object \n",
      " 22  ReAdmis             10000 non-null  object \n",
      " 23  VitD_levels         10000 non-null  float64\n",
      " 24  Doc_visits          10000 non-null  int64  \n",
      " 25  Full_meals_eaten    10000 non-null  int64  \n",
      " 26  VitD_supp           10000 non-null  int64  \n",
      " 27  Soft_drink          10000 non-null  object \n",
      " 28  Initial_admin       10000 non-null  object \n",
      " 29  HighBlood           10000 non-null  int64  \n",
      " 30  Stroke              10000 non-null  int64  \n",
      " 31  Complication_risk   10000 non-null  object \n",
      " 32  Overweight          10000 non-null  int32  \n",
      " 33  Arthritis           10000 non-null  int64  \n",
      " 34  Diabetes            10000 non-null  int64  \n",
      " 35  Hyperlipidemia      10000 non-null  int64  \n",
      " 36  BackPain            10000 non-null  int64  \n",
      " 37  Anxiety             10000 non-null  int32  \n",
      " 38  Allergic_rhinitis   10000 non-null  int64  \n",
      " 39  Reflux_esophagitis  10000 non-null  int64  \n",
      " 40  Asthma              10000 non-null  int64  \n",
      " 41  Services            10000 non-null  object \n",
      " 42  Initial_days        10000 non-null  float64\n",
      " 43  TotalCharge         10000 non-null  float64\n",
      " 44  Additional_charges  10000 non-null  float64\n",
      " 45  Item1               10000 non-null  int64  \n",
      " 46  Item2               10000 non-null  int64  \n",
      " 47  Item3               10000 non-null  int64  \n",
      " 48  Item4               10000 non-null  int64  \n",
      " 49  Item5               10000 non-null  int64  \n",
      " 50  Item6               10000 non-null  int64  \n",
      " 51  Item7               10000 non-null  int64  \n",
      " 52  Item8               10000 non-null  int64  \n",
      " 53  health_score        10000 non-null  int32  \n",
      " 54  zscore_hs           10000 non-null  float64\n",
      " 55  zscore_dv           10000 non-null  float64\n",
      "dtypes: float64(11), int32(3), int64(24), object(18)\n",
      "memory usage: 4.2+ MB\n"
     ]
    }
   ],
   "source": [
    "df.info()"
   ]
  },
  {
   "cell_type": "code",
   "execution_count": 31,
   "id": "ae893ec0-a07e-4d47-9b2d-adf0424b8c90",
   "metadata": {},
   "outputs": [],
   "source": [
    "df['zscore_dv'] = df['zscore_dv'].astype(int)\n",
    "df['zscore_hs'] = df['zscore_hs'].astype(int)"
   ]
  },
  {
   "cell_type": "code",
   "execution_count": 32,
   "id": "8118fb6b-b382-4ebb-a2ea-002e83fea7d6",
   "metadata": {},
   "outputs": [
    {
     "name": "stdout",
     "output_type": "stream",
     "text": [
      "<class 'pandas.core.frame.DataFrame'>\n",
      "RangeIndex: 10000 entries, 0 to 9999\n",
      "Data columns (total 56 columns):\n",
      " #   Column              Non-Null Count  Dtype  \n",
      "---  ------              --------------  -----  \n",
      " 0   Unnamed: 0          10000 non-null  int64  \n",
      " 1   CaseOrder           10000 non-null  int64  \n",
      " 2   Customer_id         10000 non-null  object \n",
      " 3   Interaction         10000 non-null  object \n",
      " 4   UID                 10000 non-null  object \n",
      " 5   City                10000 non-null  object \n",
      " 6   State               10000 non-null  object \n",
      " 7   County              10000 non-null  object \n",
      " 8   Zip                 10000 non-null  int64  \n",
      " 9   Lat                 10000 non-null  float64\n",
      " 10  Lng                 10000 non-null  float64\n",
      " 11  Population          10000 non-null  int64  \n",
      " 12  Area                10000 non-null  object \n",
      " 13  Timezone            10000 non-null  object \n",
      " 14  Job                 10000 non-null  object \n",
      " 15  Children            10000 non-null  float64\n",
      " 16  Age                 10000 non-null  float64\n",
      " 17  Education           10000 non-null  object \n",
      " 18  Employment          10000 non-null  object \n",
      " 19  Income              10000 non-null  float64\n",
      " 20  Marital             10000 non-null  object \n",
      " 21  Gender              10000 non-null  object \n",
      " 22  ReAdmis             10000 non-null  object \n",
      " 23  VitD_levels         10000 non-null  float64\n",
      " 24  Doc_visits          10000 non-null  int64  \n",
      " 25  Full_meals_eaten    10000 non-null  int64  \n",
      " 26  VitD_supp           10000 non-null  int64  \n",
      " 27  Soft_drink          10000 non-null  object \n",
      " 28  Initial_admin       10000 non-null  object \n",
      " 29  HighBlood           10000 non-null  int64  \n",
      " 30  Stroke              10000 non-null  int64  \n",
      " 31  Complication_risk   10000 non-null  object \n",
      " 32  Overweight          10000 non-null  int32  \n",
      " 33  Arthritis           10000 non-null  int64  \n",
      " 34  Diabetes            10000 non-null  int64  \n",
      " 35  Hyperlipidemia      10000 non-null  int64  \n",
      " 36  BackPain            10000 non-null  int64  \n",
      " 37  Anxiety             10000 non-null  int32  \n",
      " 38  Allergic_rhinitis   10000 non-null  int64  \n",
      " 39  Reflux_esophagitis  10000 non-null  int64  \n",
      " 40  Asthma              10000 non-null  int64  \n",
      " 41  Services            10000 non-null  object \n",
      " 42  Initial_days        10000 non-null  float64\n",
      " 43  TotalCharge         10000 non-null  float64\n",
      " 44  Additional_charges  10000 non-null  float64\n",
      " 45  Item1               10000 non-null  int64  \n",
      " 46  Item2               10000 non-null  int64  \n",
      " 47  Item3               10000 non-null  int64  \n",
      " 48  Item4               10000 non-null  int64  \n",
      " 49  Item5               10000 non-null  int64  \n",
      " 50  Item6               10000 non-null  int64  \n",
      " 51  Item7               10000 non-null  int64  \n",
      " 52  Item8               10000 non-null  int64  \n",
      " 53  health_score        10000 non-null  int32  \n",
      " 54  zscore_hs           10000 non-null  int32  \n",
      " 55  zscore_dv           10000 non-null  int32  \n",
      "dtypes: float64(9), int32(5), int64(24), object(18)\n",
      "memory usage: 4.1+ MB\n"
     ]
    }
   ],
   "source": [
    "df.info()"
   ]
  },
  {
   "cell_type": "code",
   "execution_count": 33,
   "id": "0bc474de-7855-486a-8a5c-945e6e02ff3d",
   "metadata": {},
   "outputs": [
    {
     "name": "stdout",
     "output_type": "stream",
     "text": [
      "<class 'pandas.core.frame.DataFrame'>\n",
      "RangeIndex: 10000 entries, 0 to 9999\n",
      "Data columns (total 56 columns):\n",
      " #   Column              Non-Null Count  Dtype  \n",
      "---  ------              --------------  -----  \n",
      " 0   Unnamed: 0          10000 non-null  int64  \n",
      " 1   CaseOrder           10000 non-null  int64  \n",
      " 2   Customer_id         10000 non-null  object \n",
      " 3   Interaction         10000 non-null  object \n",
      " 4   UID                 10000 non-null  object \n",
      " 5   City                10000 non-null  object \n",
      " 6   State               10000 non-null  object \n",
      " 7   County              10000 non-null  object \n",
      " 8   Zip                 10000 non-null  int64  \n",
      " 9   Lat                 10000 non-null  float64\n",
      " 10  Lng                 10000 non-null  float64\n",
      " 11  Population          10000 non-null  int64  \n",
      " 12  Area                10000 non-null  object \n",
      " 13  Timezone            10000 non-null  object \n",
      " 14  Job                 10000 non-null  object \n",
      " 15  Children            10000 non-null  float64\n",
      " 16  Age                 10000 non-null  float64\n",
      " 17  Education           10000 non-null  object \n",
      " 18  Employment          10000 non-null  object \n",
      " 19  Income              10000 non-null  float64\n",
      " 20  Marital             10000 non-null  object \n",
      " 21  Gender              10000 non-null  object \n",
      " 22  ReAdmis             10000 non-null  object \n",
      " 23  VitD_levels         10000 non-null  float64\n",
      " 24  Doc_visits          10000 non-null  int64  \n",
      " 25  Full_meals_eaten    10000 non-null  int64  \n",
      " 26  VitD_supp           10000 non-null  int64  \n",
      " 27  Soft_drink          10000 non-null  object \n",
      " 28  Initial_admin       10000 non-null  object \n",
      " 29  HighBlood           10000 non-null  int64  \n",
      " 30  Stroke              10000 non-null  int64  \n",
      " 31  Complication_risk   10000 non-null  object \n",
      " 32  Overweight          10000 non-null  int32  \n",
      " 33  Arthritis           10000 non-null  int64  \n",
      " 34  Diabetes            10000 non-null  int64  \n",
      " 35  Hyperlipidemia      10000 non-null  int64  \n",
      " 36  BackPain            10000 non-null  int64  \n",
      " 37  Anxiety             10000 non-null  int32  \n",
      " 38  Allergic_rhinitis   10000 non-null  int64  \n",
      " 39  Reflux_esophagitis  10000 non-null  int64  \n",
      " 40  Asthma              10000 non-null  int64  \n",
      " 41  Services            10000 non-null  object \n",
      " 42  Initial_days        10000 non-null  float64\n",
      " 43  TotalCharge         10000 non-null  float64\n",
      " 44  Additional_charges  10000 non-null  float64\n",
      " 45  Item1               10000 non-null  int64  \n",
      " 46  Item2               10000 non-null  int64  \n",
      " 47  Item3               10000 non-null  int64  \n",
      " 48  Item4               10000 non-null  int64  \n",
      " 49  Item5               10000 non-null  int64  \n",
      " 50  Item6               10000 non-null  int64  \n",
      " 51  Item7               10000 non-null  int64  \n",
      " 52  Item8               10000 non-null  int64  \n",
      " 53  health_score        10000 non-null  int32  \n",
      " 54  zscore_hs           10000 non-null  int32  \n",
      " 55  zscore_dv           10000 non-null  int32  \n",
      "dtypes: float64(9), int32(5), int64(24), object(18)\n",
      "memory usage: 4.1+ MB\n"
     ]
    }
   ],
   "source": [
    "df.drop(df[df['zscore_hs'] > 3].index, inplace = True)\n",
    "df.info()"
   ]
  },
  {
   "cell_type": "code",
   "execution_count": 34,
   "id": "90451fac-1dbe-49ba-a712-515fa15f5e34",
   "metadata": {},
   "outputs": [
    {
     "name": "stdout",
     "output_type": "stream",
     "text": [
      "<class 'pandas.core.frame.DataFrame'>\n",
      "RangeIndex: 10000 entries, 0 to 9999\n",
      "Data columns (total 56 columns):\n",
      " #   Column              Non-Null Count  Dtype  \n",
      "---  ------              --------------  -----  \n",
      " 0   Unnamed: 0          10000 non-null  int64  \n",
      " 1   CaseOrder           10000 non-null  int64  \n",
      " 2   Customer_id         10000 non-null  object \n",
      " 3   Interaction         10000 non-null  object \n",
      " 4   UID                 10000 non-null  object \n",
      " 5   City                10000 non-null  object \n",
      " 6   State               10000 non-null  object \n",
      " 7   County              10000 non-null  object \n",
      " 8   Zip                 10000 non-null  int64  \n",
      " 9   Lat                 10000 non-null  float64\n",
      " 10  Lng                 10000 non-null  float64\n",
      " 11  Population          10000 non-null  int64  \n",
      " 12  Area                10000 non-null  object \n",
      " 13  Timezone            10000 non-null  object \n",
      " 14  Job                 10000 non-null  object \n",
      " 15  Children            10000 non-null  float64\n",
      " 16  Age                 10000 non-null  float64\n",
      " 17  Education           10000 non-null  object \n",
      " 18  Employment          10000 non-null  object \n",
      " 19  Income              10000 non-null  float64\n",
      " 20  Marital             10000 non-null  object \n",
      " 21  Gender              10000 non-null  object \n",
      " 22  ReAdmis             10000 non-null  object \n",
      " 23  VitD_levels         10000 non-null  float64\n",
      " 24  Doc_visits          10000 non-null  int64  \n",
      " 25  Full_meals_eaten    10000 non-null  int64  \n",
      " 26  VitD_supp           10000 non-null  int64  \n",
      " 27  Soft_drink          10000 non-null  object \n",
      " 28  Initial_admin       10000 non-null  object \n",
      " 29  HighBlood           10000 non-null  int64  \n",
      " 30  Stroke              10000 non-null  int64  \n",
      " 31  Complication_risk   10000 non-null  object \n",
      " 32  Overweight          10000 non-null  int32  \n",
      " 33  Arthritis           10000 non-null  int64  \n",
      " 34  Diabetes            10000 non-null  int64  \n",
      " 35  Hyperlipidemia      10000 non-null  int64  \n",
      " 36  BackPain            10000 non-null  int64  \n",
      " 37  Anxiety             10000 non-null  int32  \n",
      " 38  Allergic_rhinitis   10000 non-null  int64  \n",
      " 39  Reflux_esophagitis  10000 non-null  int64  \n",
      " 40  Asthma              10000 non-null  int64  \n",
      " 41  Services            10000 non-null  object \n",
      " 42  Initial_days        10000 non-null  float64\n",
      " 43  TotalCharge         10000 non-null  float64\n",
      " 44  Additional_charges  10000 non-null  float64\n",
      " 45  Item1               10000 non-null  int64  \n",
      " 46  Item2               10000 non-null  int64  \n",
      " 47  Item3               10000 non-null  int64  \n",
      " 48  Item4               10000 non-null  int64  \n",
      " 49  Item5               10000 non-null  int64  \n",
      " 50  Item6               10000 non-null  int64  \n",
      " 51  Item7               10000 non-null  int64  \n",
      " 52  Item8               10000 non-null  int64  \n",
      " 53  health_score        10000 non-null  int32  \n",
      " 54  zscore_hs           10000 non-null  int32  \n",
      " 55  zscore_dv           10000 non-null  int32  \n",
      "dtypes: float64(9), int32(5), int64(24), object(18)\n",
      "memory usage: 4.1+ MB\n"
     ]
    }
   ],
   "source": [
    "df.drop(df[df['zscore_hs'] < -3].index, inplace = True)\n",
    "df.info()"
   ]
  },
  {
   "cell_type": "code",
   "execution_count": 35,
   "id": "66735a48-1547-4b38-90bf-275be6149f78",
   "metadata": {},
   "outputs": [
    {
     "name": "stdout",
     "output_type": "stream",
     "text": [
      "<class 'pandas.core.frame.DataFrame'>\n",
      "RangeIndex: 10000 entries, 0 to 9999\n",
      "Data columns (total 56 columns):\n",
      " #   Column              Non-Null Count  Dtype  \n",
      "---  ------              --------------  -----  \n",
      " 0   Unnamed: 0          10000 non-null  int64  \n",
      " 1   CaseOrder           10000 non-null  int64  \n",
      " 2   Customer_id         10000 non-null  object \n",
      " 3   Interaction         10000 non-null  object \n",
      " 4   UID                 10000 non-null  object \n",
      " 5   City                10000 non-null  object \n",
      " 6   State               10000 non-null  object \n",
      " 7   County              10000 non-null  object \n",
      " 8   Zip                 10000 non-null  int64  \n",
      " 9   Lat                 10000 non-null  float64\n",
      " 10  Lng                 10000 non-null  float64\n",
      " 11  Population          10000 non-null  int64  \n",
      " 12  Area                10000 non-null  object \n",
      " 13  Timezone            10000 non-null  object \n",
      " 14  Job                 10000 non-null  object \n",
      " 15  Children            10000 non-null  float64\n",
      " 16  Age                 10000 non-null  float64\n",
      " 17  Education           10000 non-null  object \n",
      " 18  Employment          10000 non-null  object \n",
      " 19  Income              10000 non-null  float64\n",
      " 20  Marital             10000 non-null  object \n",
      " 21  Gender              10000 non-null  object \n",
      " 22  ReAdmis             10000 non-null  object \n",
      " 23  VitD_levels         10000 non-null  float64\n",
      " 24  Doc_visits          10000 non-null  int64  \n",
      " 25  Full_meals_eaten    10000 non-null  int64  \n",
      " 26  VitD_supp           10000 non-null  int64  \n",
      " 27  Soft_drink          10000 non-null  object \n",
      " 28  Initial_admin       10000 non-null  object \n",
      " 29  HighBlood           10000 non-null  int64  \n",
      " 30  Stroke              10000 non-null  int64  \n",
      " 31  Complication_risk   10000 non-null  object \n",
      " 32  Overweight          10000 non-null  int32  \n",
      " 33  Arthritis           10000 non-null  int64  \n",
      " 34  Diabetes            10000 non-null  int64  \n",
      " 35  Hyperlipidemia      10000 non-null  int64  \n",
      " 36  BackPain            10000 non-null  int64  \n",
      " 37  Anxiety             10000 non-null  int32  \n",
      " 38  Allergic_rhinitis   10000 non-null  int64  \n",
      " 39  Reflux_esophagitis  10000 non-null  int64  \n",
      " 40  Asthma              10000 non-null  int64  \n",
      " 41  Services            10000 non-null  object \n",
      " 42  Initial_days        10000 non-null  float64\n",
      " 43  TotalCharge         10000 non-null  float64\n",
      " 44  Additional_charges  10000 non-null  float64\n",
      " 45  Item1               10000 non-null  int64  \n",
      " 46  Item2               10000 non-null  int64  \n",
      " 47  Item3               10000 non-null  int64  \n",
      " 48  Item4               10000 non-null  int64  \n",
      " 49  Item5               10000 non-null  int64  \n",
      " 50  Item6               10000 non-null  int64  \n",
      " 51  Item7               10000 non-null  int64  \n",
      " 52  Item8               10000 non-null  int64  \n",
      " 53  health_score        10000 non-null  int32  \n",
      " 54  zscore_hs           10000 non-null  int32  \n",
      " 55  zscore_dv           10000 non-null  int32  \n",
      "dtypes: float64(9), int32(5), int64(24), object(18)\n",
      "memory usage: 4.1+ MB\n"
     ]
    }
   ],
   "source": [
    "df.drop(df[df['zscore_dv'] > 3].index, inplace = True)\n",
    "df.info()"
   ]
  },
  {
   "cell_type": "code",
   "execution_count": 36,
   "id": "3163f473-94d4-4d4c-9f28-ff1e194be7d8",
   "metadata": {},
   "outputs": [
    {
     "name": "stdout",
     "output_type": "stream",
     "text": [
      "<class 'pandas.core.frame.DataFrame'>\n",
      "RangeIndex: 10000 entries, 0 to 9999\n",
      "Data columns (total 56 columns):\n",
      " #   Column              Non-Null Count  Dtype  \n",
      "---  ------              --------------  -----  \n",
      " 0   Unnamed: 0          10000 non-null  int64  \n",
      " 1   CaseOrder           10000 non-null  int64  \n",
      " 2   Customer_id         10000 non-null  object \n",
      " 3   Interaction         10000 non-null  object \n",
      " 4   UID                 10000 non-null  object \n",
      " 5   City                10000 non-null  object \n",
      " 6   State               10000 non-null  object \n",
      " 7   County              10000 non-null  object \n",
      " 8   Zip                 10000 non-null  int64  \n",
      " 9   Lat                 10000 non-null  float64\n",
      " 10  Lng                 10000 non-null  float64\n",
      " 11  Population          10000 non-null  int64  \n",
      " 12  Area                10000 non-null  object \n",
      " 13  Timezone            10000 non-null  object \n",
      " 14  Job                 10000 non-null  object \n",
      " 15  Children            10000 non-null  float64\n",
      " 16  Age                 10000 non-null  float64\n",
      " 17  Education           10000 non-null  object \n",
      " 18  Employment          10000 non-null  object \n",
      " 19  Income              10000 non-null  float64\n",
      " 20  Marital             10000 non-null  object \n",
      " 21  Gender              10000 non-null  object \n",
      " 22  ReAdmis             10000 non-null  object \n",
      " 23  VitD_levels         10000 non-null  float64\n",
      " 24  Doc_visits          10000 non-null  int64  \n",
      " 25  Full_meals_eaten    10000 non-null  int64  \n",
      " 26  VitD_supp           10000 non-null  int64  \n",
      " 27  Soft_drink          10000 non-null  object \n",
      " 28  Initial_admin       10000 non-null  object \n",
      " 29  HighBlood           10000 non-null  int64  \n",
      " 30  Stroke              10000 non-null  int64  \n",
      " 31  Complication_risk   10000 non-null  object \n",
      " 32  Overweight          10000 non-null  int32  \n",
      " 33  Arthritis           10000 non-null  int64  \n",
      " 34  Diabetes            10000 non-null  int64  \n",
      " 35  Hyperlipidemia      10000 non-null  int64  \n",
      " 36  BackPain            10000 non-null  int64  \n",
      " 37  Anxiety             10000 non-null  int32  \n",
      " 38  Allergic_rhinitis   10000 non-null  int64  \n",
      " 39  Reflux_esophagitis  10000 non-null  int64  \n",
      " 40  Asthma              10000 non-null  int64  \n",
      " 41  Services            10000 non-null  object \n",
      " 42  Initial_days        10000 non-null  float64\n",
      " 43  TotalCharge         10000 non-null  float64\n",
      " 44  Additional_charges  10000 non-null  float64\n",
      " 45  Item1               10000 non-null  int64  \n",
      " 46  Item2               10000 non-null  int64  \n",
      " 47  Item3               10000 non-null  int64  \n",
      " 48  Item4               10000 non-null  int64  \n",
      " 49  Item5               10000 non-null  int64  \n",
      " 50  Item6               10000 non-null  int64  \n",
      " 51  Item7               10000 non-null  int64  \n",
      " 52  Item8               10000 non-null  int64  \n",
      " 53  health_score        10000 non-null  int32  \n",
      " 54  zscore_hs           10000 non-null  int32  \n",
      " 55  zscore_dv           10000 non-null  int32  \n",
      "dtypes: float64(9), int32(5), int64(24), object(18)\n",
      "memory usage: 4.1+ MB\n"
     ]
    }
   ],
   "source": [
    "df.drop(df[df['zscore_dv'] < -3].index, inplace = True)\n",
    "df.info()"
   ]
  },
  {
   "cell_type": "code",
   "execution_count": 37,
   "id": "4902bcef-6433-4be5-a289-80131cbd8075",
   "metadata": {},
   "outputs": [
    {
     "name": "stdout",
     "output_type": "stream",
     "text": [
      "      Doc_visits  health_score  VitD_levels\n",
      "0              6             6    17.802330\n",
      "1              4             3    18.994640\n",
      "2              4             3    17.415889\n",
      "3              4             4    17.420079\n",
      "4              5             1    16.870524\n",
      "...          ...           ...          ...\n",
      "9995           4             3    16.481612\n",
      "9996           5             5    18.451601\n",
      "9997           4             3    15.752751\n",
      "9998           5             2    21.956305\n",
      "9999           5             3    20.421883\n",
      "\n",
      "[10000 rows x 3 columns]\n"
     ]
    }
   ],
   "source": [
    "newdf = df[['Doc_visits', 'health_score', 'VitD_levels']]\n",
    "print (newdf)"
   ]
  },
  {
   "cell_type": "code",
   "execution_count": 38,
   "id": "afe47b99-3a17-4015-8c03-b578b5a05d29",
   "metadata": {},
   "outputs": [
    {
     "data": {
      "text/html": [
       "<div>\n",
       "<style scoped>\n",
       "    .dataframe tbody tr th:only-of-type {\n",
       "        vertical-align: middle;\n",
       "    }\n",
       "\n",
       "    .dataframe tbody tr th {\n",
       "        vertical-align: top;\n",
       "    }\n",
       "\n",
       "    .dataframe thead th {\n",
       "        text-align: right;\n",
       "    }\n",
       "</style>\n",
       "<table border=\"1\" class=\"dataframe\">\n",
       "  <thead>\n",
       "    <tr style=\"text-align: right;\">\n",
       "      <th></th>\n",
       "      <th>Doc_visits</th>\n",
       "      <th>health_score</th>\n",
       "      <th>VitD_levels</th>\n",
       "    </tr>\n",
       "  </thead>\n",
       "  <tbody>\n",
       "    <tr>\n",
       "      <th>0</th>\n",
       "      <td>6</td>\n",
       "      <td>6</td>\n",
       "      <td>17.802330</td>\n",
       "    </tr>\n",
       "    <tr>\n",
       "      <th>1</th>\n",
       "      <td>4</td>\n",
       "      <td>3</td>\n",
       "      <td>18.994640</td>\n",
       "    </tr>\n",
       "    <tr>\n",
       "      <th>2</th>\n",
       "      <td>4</td>\n",
       "      <td>3</td>\n",
       "      <td>17.415889</td>\n",
       "    </tr>\n",
       "    <tr>\n",
       "      <th>3</th>\n",
       "      <td>4</td>\n",
       "      <td>4</td>\n",
       "      <td>17.420079</td>\n",
       "    </tr>\n",
       "    <tr>\n",
       "      <th>4</th>\n",
       "      <td>5</td>\n",
       "      <td>1</td>\n",
       "      <td>16.870524</td>\n",
       "    </tr>\n",
       "  </tbody>\n",
       "</table>\n",
       "</div>"
      ],
      "text/plain": [
       "   Doc_visits  health_score  VitD_levels\n",
       "0           6             6    17.802330\n",
       "1           4             3    18.994640\n",
       "2           4             3    17.415889\n",
       "3           4             4    17.420079\n",
       "4           5             1    16.870524"
      ]
     },
     "execution_count": 38,
     "metadata": {},
     "output_type": "execute_result"
    }
   ],
   "source": [
    "newdf.head()"
   ]
  },
  {
   "cell_type": "code",
   "execution_count": 39,
   "id": "f31f6f5a-7232-4152-8d83-14c87e3514d4",
   "metadata": {
    "tags": []
   },
   "outputs": [],
   "source": [
    "newdf_normalized = (newdf-newdf.mean())/newdf.std()"
   ]
  },
  {
   "cell_type": "code",
   "execution_count": 40,
   "id": "157da39c-5e65-422e-adcd-aeae555054c7",
   "metadata": {},
   "outputs": [],
   "source": [
    "pca = PCA(n_components = newdf.shape[1])\n",
    "pca.fit(newdf_normalized)\n",
    "newdf_pca = pd.DataFrame(pca.transform(newdf_normalized), columns = ['p1', 'p2', 'p3'])"
   ]
  },
  {
   "cell_type": "code",
   "execution_count": 41,
   "id": "65ed9767-4014-43fe-9e45-eb62bc597398",
   "metadata": {
    "tags": []
   },
   "outputs": [
    {
     "data": {
      "image/png": "[encoded data removed]",
      "text/plain": [
       "<Figure size 640x480 with 1 Axes>"
      ]
     },
     "metadata": {},
     "output_type": "display_data"
    }
   ],
   "source": [
    "plt.plot(pca.explained_variance_ratio_)\n",
    "plt.xlabel('# of components')\n",
    "plt.ylabel('explained variance')\n",
    "plt.show()"
   ]
  },
  {
   "cell_type": "code",
   "execution_count": 42,
   "id": "3abc50d9-03c1-4aa0-89e0-3f6e744bcd21",
   "metadata": {},
   "outputs": [],
   "source": [
    "cov_matrix = np.dot(newdf_normalized.T, newdf_normalized) / newdf.shape[0]\n",
    "eigenvalues = [np.dot(eigenvector.T, np.dot(cov_matrix, eigenvector)) for eigenvector in pca.components_]"
   ]
  },
  {
   "cell_type": "code",
   "execution_count": 43,
   "id": "1b01fb8a-4147-40d1-8fac-2de7f174748b",
   "metadata": {},
   "outputs": [
    {
     "data": {
      "image/png": "[encoded data removed]",
      "text/plain": [
       "<Figure size 640x480 with 1 Axes>"
      ]
     },
     "metadata": {},
     "output_type": "display_data"
    }
   ],
   "source": [
    "plt.plot(eigenvalues)\n",
    "plt.xlabel('# of components')\n",
    "plt.ylabel('eigenvalues')\n",
    "plt.show()"
   ]
  },
  {
   "cell_type": "code",
   "execution_count": 44,
   "id": "94399174-2abf-4193-9875-4405751330a0",
   "metadata": {},
   "outputs": [
    {
     "data": {
      "text/html": [
       "<div>\n",
       "<style scoped>\n",
       "    .dataframe tbody tr th:only-of-type {\n",
       "        vertical-align: middle;\n",
       "    }\n",
       "\n",
       "    .dataframe tbody tr th {\n",
       "        vertical-align: top;\n",
       "    }\n",
       "\n",
       "    .dataframe thead th {\n",
       "        text-align: right;\n",
       "    }\n",
       "</style>\n",
       "<table border=\"1\" class=\"dataframe\">\n",
       "  <thead>\n",
       "    <tr style=\"text-align: right;\">\n",
       "      <th></th>\n",
       "      <th>p1</th>\n",
       "      <th>p2</th>\n",
       "      <th>p3</th>\n",
       "    </tr>\n",
       "  </thead>\n",
       "  <tbody>\n",
       "    <tr>\n",
       "      <th>Doc_visits</th>\n",
       "      <td>0.50064</td>\n",
       "      <td>-0.757147</td>\n",
       "      <td>0.419629</td>\n",
       "    </tr>\n",
       "    <tr>\n",
       "      <th>health_score</th>\n",
       "      <td>-0.66924</td>\n",
       "      <td>-0.031060</td>\n",
       "      <td>0.742397</td>\n",
       "    </tr>\n",
       "    <tr>\n",
       "      <th>VitD_levels</th>\n",
       "      <td>0.54907</td>\n",
       "      <td>0.652506</td>\n",
       "      <td>0.522262</td>\n",
       "    </tr>\n",
       "  </tbody>\n",
       "</table>\n",
       "</div>"
      ],
      "text/plain": [
       "                   p1        p2        p3\n",
       "Doc_visits    0.50064 -0.757147  0.419629\n",
       "health_score -0.66924 -0.031060  0.742397\n",
       "VitD_levels   0.54907  0.652506  0.522262"
      ]
     },
     "execution_count": 44,
     "metadata": {},
     "output_type": "execute_result"
    }
   ],
   "source": [
    "loading = pd.DataFrame(pca.components_.T,\n",
    "                      columns = ['p1', 'p2', 'p3'],\n",
    "                      index = newdf.columns)\n",
    "loading"
   ]
  },
  {
   "cell_type": "code",
   "execution_count": 45,
   "id": "2a9e7820-d2bb-4ee3-a2fd-b81fc126b2ea",
   "metadata": {},
   "outputs": [],
   "source": [
    "df.to_csv(r'D:\\Personal\\cleaned_data.csv', index = False)"
   ]
  },
  {
   "cell_type": "code",
   "execution_count": 46,
   "id": "2169b32f-6a17-4851-bb50-2247e7868929",
   "metadata": {
    "tags": []
   },
   "outputs": [
    {
     "data": {
      "text/plain": [
       "[1.0077183476716385, 0.9984324882153788, 0.9935491641130877]"
      ]
     },
     "execution_count": 46,
     "metadata": {},
     "output_type": "execute_result"
    }
   ],
   "source": [
    "eigenvalues"
   ]
  }
 ],
 "metadata": {
  "kernelspec": {
   "display_name": "Python 3 (ipykernel)",
   "language": "python",
   "name": "python3"
  },
  "language_info": {
   "codemirror_mode": {
    "name": "ipython",
    "version": 3
   },
   "file_extension": ".py",
   "mimetype": "text/x-python",
   "name": "python",
   "nbconvert_exporter": "python",
   "pygments_lexer": "ipython3",
   "version": "3.9.18"
  }
 },
 "nbformat": 4,
 "nbformat_minor": 5
}
