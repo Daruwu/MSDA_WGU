{
 "cells": [
  {
   "cell_type": "code",
   "execution_count": 1,
   "id": "52923421-22f8-4070-a099-3bbf8890a2ce",
   "metadata": {},
   "outputs": [],
   "source": [
    "import pandas as pd\n",
    "import numpy as np\n",
    "import statsmodels.formula.api as smf\n",
    "import matplotlib.pyplot as plt\n",
    "import seaborn as sns\n",
    "from scipy.stats import zscore\n",
    "import statsmodels.api as sm\n",
    "from sklearn.datasets import load_iris\n",
    "from sklearn.linear_model import LogisticRegression\n",
    "from sklearn.model_selection import train_test_split\n",
    "from statsmodels.api import Logit\n",
    "from sklearn.metrics import confusion_matrix\n",
    "from sklearn.metrics import classification_report\n",
    "from sklearn.cluster import KMeans\n",
    "from tabulate import tabulate\n",
    "from sklearn.decomposition import PCA\n",
    "from mlxtend.frequent_patterns import apriori\n",
    "from mlxtend.frequent_patterns import association_rules"
   ]
  },
  {
   "cell_type": "code",
   "execution_count": 2,
   "id": "a1606279-30c6-4da1-ae21-8e60e7158f4d",
   "metadata": {},
   "outputs": [],
   "source": [
    "# Read the data into a DataFrame\n",
    "df = pd.read_csv('churn_clean.csv')"
   ]
  },
  {
   "cell_type": "code",
   "execution_count": 3,
   "id": "15e4629e-a510-4bc9-8e18-c76dd4f14901",
   "metadata": {},
   "outputs": [
    {
     "name": "stderr",
     "output_type": "stream",
   
    },
    {
     "name": "stdout",
     "output_type": "stream",
     "text": [
      "         antecedents consequents  antecedent support  consequent support  \\\n",
      "0            (Churn)     (Phone)                 1.0                 1.0   \n",
      "1            (Phone)     (Churn)                 1.0                 1.0   \n",
      "2            (Churn)  (Multiple)                 1.0                 1.0   \n",
      "3         (Multiple)     (Churn)                 1.0                 1.0   \n",
      "4  (InternetService)     (Churn)                 1.0                 1.0   \n",
      "\n",
      "   support  confidence  lift  leverage  conviction  zhangs_metric  \n",
      "0      1.0         1.0   1.0       0.0         inf            0.0  \n",
      "1      1.0         1.0   1.0       0.0         inf            0.0  \n",
      "2      1.0         1.0   1.0       0.0         inf            0.0  \n",
      "3      1.0         1.0   1.0       0.0         inf            0.0  \n",
      "4      1.0         1.0   1.0       0.0         inf            0.0  \n"
     ]
    }
   ],
   "source": [
    "# Remove rows with missing values\n",
    "df = df.dropna()\n",
    "\n",
    "# Convert 'yes' and 'no' values to 1 and 0\n",
    "df = df.replace({'yes': 1, 'no': 0})\n",
    "\n",
    "# Select the relevant columns for analysis\n",
    "selected_columns = ['Churn', 'Phone', 'Multiple', 'InternetService', 'OnlineSecurity', 'OnlineBackup', 'DeviceProtection',\n",
    "                    'TechSupport', 'StreamingTV', 'StreamingMovies', 'PaperlessBilling', 'PaymentMethod']\n",
    "selected_df = df[selected_columns]\n",
    "\n",
    "# Convert selected columns to boolean values based on threshold\n",
    "selected_df[selected_columns] = selected_df[selected_columns].astype(bool)\n",
    "\n",
    "# Execute the Apriori algorithm\n",
    "frequent_itemsets = apriori(selected_df, min_support=0.05, use_colnames=True)\n",
    "\n",
    "# Generate association rules\n",
    "association_rules = association_rules(frequent_itemsets, metric=\"confidence\", min_threshold=0.5)\n",
    "\n",
    "# Print the association rules\n",
    "print(association_rules.head())"
   ]
  },
  {
   "cell_type": "code",
   "execution_count": 4,
   "id": "9d1ce837-c781-4096-bf01-9956901f0383",
   "metadata": {},
   "outputs": [
    {
     "name": "stdout",
     "output_type": "stream",
     "text": [
      "Rule 1: If Churn, then Phone\n",
      "Support: 1.0\n",
      "Confidence: 1.0\n",
      "Lift: 1.0\n",
      "\n",
      "Rule 348829: If Multiple, StreamingTV, OnlineBackup, Churn, Phone, then PaperlessBilling, TechSupport, StreamingMovies, OnlineSecurity\n",
      "Support: 1.0\n",
      "Confidence: 1.0\n",
      "Lift: 1.0\n",
      "\n",
      "Rule 348842: If Multiple, TechSupport, OnlineBackup, Churn, StreamingMovies, then PaperlessBilling, StreamingTV, Phone, OnlineSecurity\n",
      "Support: 1.0\n",
      "Confidence: 1.0\n",
      "Lift: 1.0\n",
      "\n"
     ]
    }
   ],
   "source": [
    "# Sort the association rules by confidence in descending order\n",
    "sorted_rules = association_rules.sort_values(by='confidence', ascending=False)\n",
    "\n",
    "# Select the top three rules\n",
    "top_three_rules = sorted_rules.head(3)\n",
    "\n",
    "# Iterate over the top three rules and print the summaries\n",
    "for index, rule in top_three_rules.iterrows():\n",
    "    antecedents = ', '.join(list(rule['antecedents']))\n",
    "    consequents = ', '.join(list(rule['consequents']))\n",
    "    support = rule['support']\n",
    "    confidence = rule['confidence']\n",
    "    lift = rule['lift']\n",
    "    \n",
    "    summary = f\"Rule {index+1}: If {antecedents}, then {consequents}\\nSupport: {support}\\nConfidence: {confidence}\\nLift: {lift}\\n\"\n",
    "    print(summary)"
   ]
  },
  {
   "cell_type": "code",
   "execution_count": null,
   "id": "5290781b-9393-4ddb-8518-1b56975ff3e7",
   "metadata": {},
   "outputs": [],
   "source": [
    "selected_df.to_csv('D212_p3_cleaned_churn_data.csv', index=False)"
   ]
  }
 ],
 "metadata": {
  "kernelspec": {
   "display_name": "Python 3 (ipykernel)",
   "language": "python",
   "name": "python3"
  },
  "language_info": {
   "codemirror_mode": {
    "name": "ipython",
    "version": 3
   },
   "file_extension": ".py",
   "mimetype": "text/x-python",
   "name": "python",
   "nbconvert_exporter": "python",
   "pygments_lexer": "ipython3",
   "version": "3.9.13"
  }
 },
 "nbformat": 4,
 "nbformat_minor": 5
}
