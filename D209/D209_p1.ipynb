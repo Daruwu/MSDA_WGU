{
 "cells": [
  {
   "cell_type": "code",
   "execution_count": 1,
   "id": "ffe5dd8d-048f-4f96-ae6f-ed64a82d1643",
   "metadata": {},
   "outputs": [],
   "source": [
    "import pandas as pd\n",
    "import numpy as np\n",
    "from sklearn.naive_bayes import GaussianNB\n",
    "from sklearn.model_selection import train_test_split\n",
    "from sklearn.metrics import accuracy_score\n",
    "from scipy.stats import zscore\n",
    "import matplotlib.pyplot as plt\n",
    "from sklearn.metrics import roc_auc_score\n"
   ]
  },
  {
   "cell_type": "code",
   "execution_count": 2,
   "id": "37dcc3df-9041-428f-bb14-13527f310a3b",
   "metadata": {},
   "outputs": [],
   "source": [
    "# Read in the data set\n",
    "df = pd.read_csv('churn_clean.csv')"
   ]
  },
  {
   "cell_type": "code",
   "execution_count": 3,
   "id": "42f8cce5-8f83-4709-830b-c5ab854f9f5a",
   "metadata": {},
   "outputs": [],
   "source": [
    "# Identify and drop any missing values\n",
    "df = df.drop(columns=['CaseOrder', 'Customer_id', 'Interaction', 'UID',\n",
    "                      'County', 'Zip', 'Lat', 'Lng', 'Population', 'Area', 'TimeZone', 'Job', 'Email', 'Contacts',\n",
    "                      'City', 'State', 'Marital', 'PaymentMethod', 'PaperlessBilling'])\n",
    "\n",
    "# Drop any missing values\n",
    "df = df.dropna()\n",
    "\n",
    "df[\"churn\"] = df[\"Churn\"].apply(lambda x: 1 if x == \"Yes\" else 0)\n",
    "df.drop(\"Churn\", axis = 1, inplace = True)"
   ]
  },
  {
   "cell_type": "code",
   "execution_count": 4,
   "id": "2071f77c-0ce7-473c-8270-514078076317",
   "metadata": {},
   "outputs": [],
   "source": [
    "# One-hot encode categorical variables\n",
    "df = pd.get_dummies(df, columns=['Gender'], prefix='Gender', drop_first=True)\n",
    "\n",
    "df = pd.get_dummies(df, columns=['Contract', 'InternetService'])"
   ]
  },
  {
   "cell_type": "code",
   "execution_count": 5,
   "id": "8d581ad8-ef98-4a00-b43b-dde9a7c68432",
   "metadata": {},
   "outputs": [],
   "source": [
    "df.replace(to_replace={'Yes':1, 'No':0}, inplace=True)"
   ]
  },
  {
   "cell_type": "code",
   "execution_count": 6,
   "id": "f78dc8ab-f8b3-40f0-b77f-6d082ac8cd10",
   "metadata": {
    "tags": []
   },
   "outputs": [
    {
     "data": {
      "text/plain": [
       "<bound method NDFrame.describe of       Children  Age    Income  Outage_sec_perweek  Yearly_equip_failure  \\\n",
       "0            0   68  28561.99            7.978323                     1   \n",
       "1            1   27  21704.77           11.699080                     1   \n",
       "2            4   50   9609.57           10.752800                     1   \n",
       "3            1   48  18925.23           14.913540                     0   \n",
       "4            0   83  40074.19            8.147417                     1   \n",
       "...        ...  ...       ...                 ...                   ...   \n",
       "9995         3   23  55723.74            9.415935                     0   \n",
       "9996         4   48  34129.34            6.740547                     0   \n",
       "9997         1   48  45983.43            6.590911                     0   \n",
       "9998         1   39  16667.58           12.071910                     0   \n",
       "9999         1   28   9020.92           11.754720                     0   \n",
       "\n",
       "      Techie  Port_modem  Tablet  Phone  Multiple  ...  Item8  churn  \\\n",
       "0          0           1       1      1         0  ...      4      0   \n",
       "1          1           0       1      1         1  ...      4      1   \n",
       "2          1           1       0      1         1  ...      3      0   \n",
       "3          1           0       0      1         0  ...      3      0   \n",
       "4          0           1       0      0         0  ...      5      1   \n",
       "...      ...         ...     ...    ...       ...  ...    ...    ...   \n",
       "9995       0           1       1      1         1  ...      3      0   \n",
       "9996       0           0       0      1         1  ...      5      0   \n",
       "9997       0           0       0      1         1  ...      5      0   \n",
       "9998       0           0       1      0         1  ...      4      0   \n",
       "9999       0           1       0      1         1  ...      1      0   \n",
       "\n",
       "      Gender_Male  Gender_Nonbinary  Contract_Month-to-month  \\\n",
       "0               1                 0                        0   \n",
       "1               0                 0                        1   \n",
       "2               0                 0                        0   \n",
       "3               1                 0                        0   \n",
       "4               1                 0                        1   \n",
       "...           ...               ...                      ...   \n",
       "9995            1                 0                        1   \n",
       "9996            1                 0                        0   \n",
       "9997            0                 0                        1   \n",
       "9998            1                 0                        0   \n",
       "9999            1                 0                        1   \n",
       "\n",
       "      Contract_One year  Contract_Two Year  InternetService_DSL  \\\n",
       "0                     1                  0                    0   \n",
       "1                     0                  0                    0   \n",
       "2                     0                  1                    1   \n",
       "3                     0                  1                    1   \n",
       "4                     0                  0                    0   \n",
       "...                 ...                ...                  ...   \n",
       "9995                  0                  0                    1   \n",
       "9996                  0                  1                    0   \n",
       "9997                  0                  0                    0   \n",
       "9998                  0                  1                    0   \n",
       "9999                  0                  0                    0   \n",
       "\n",
       "      InternetService_Fiber Optic  InternetService_None  \n",
       "0                               1                     0  \n",
       "1                               1                     0  \n",
       "2                               0                     0  \n",
       "3                               0                     0  \n",
       "4                               1                     0  \n",
       "...                           ...                   ...  \n",
       "9995                            0                     0  \n",
       "9996                            1                     0  \n",
       "9997                            1                     0  \n",
       "9998                            1                     0  \n",
       "9999                            1                     0  \n",
       "\n",
       "[10000 rows x 36 columns]>"
      ]
     },
     "execution_count": 6,
     "metadata": {},
     "output_type": "execute_result"
    }
   ],
   "source": [
    "df.describe"
   ]
  },
  {
   "cell_type": "code",
   "execution_count": 7,
   "id": "104e7f29-c89f-497d-8340-d795a6ff71db",
   "metadata": {},
   "outputs": [
    {
     "name": "stdout",
     "output_type": "stream",
     "text": [
      "Children                       0\n",
      "Age                            0\n",
      "Income                         0\n",
      "Outage_sec_perweek             0\n",
      "Yearly_equip_failure           0\n",
      "Techie                         0\n",
      "Port_modem                     0\n",
      "Tablet                         0\n",
      "Phone                          0\n",
      "Multiple                       0\n",
      "OnlineSecurity                 0\n",
      "OnlineBackup                   0\n",
      "DeviceProtection               0\n",
      "TechSupport                    0\n",
      "StreamingTV                    0\n",
      "StreamingMovies                0\n",
      "Tenure                         0\n",
      "MonthlyCharge                  0\n",
      "Bandwidth_GB_Year              0\n",
      "Item1                          0\n",
      "Item2                          0\n",
      "Item3                          0\n",
      "Item4                          0\n",
      "Item5                          0\n",
      "Item6                          0\n",
      "Item7                          0\n",
      "Item8                          0\n",
      "churn                          0\n",
      "Gender_Male                    0\n",
      "Gender_Nonbinary               0\n",
      "Contract_Month-to-month        0\n",
      "Contract_One year              0\n",
      "Contract_Two Year              0\n",
      "InternetService_DSL            0\n",
      "InternetService_Fiber Optic    0\n",
      "InternetService_None           0\n",
      "dtype: int64\n"
     ]
    }
   ],
   "source": [
    "missing_values = df.isnull().sum()\n",
    "print(missing_values)"
   ]
  },
  {
   "cell_type": "code",
   "execution_count": 8,
   "id": "4653b34c-45ee-434c-8b3a-a5596f1dcaeb",
   "metadata": {},
   "outputs": [],
   "source": [
    "# Compute the Z-scores of all columns in the dataframe\n",
    "z_scores = df.apply(zscore)\n",
    "# Set a threshold for the Z-scores\n",
    "threshold = 3"
   ]
  },
  {
   "cell_type": "code",
   "execution_count": 9,
   "id": "e0455e22-4647-4778-bc21-22fbaf58869a",
   "metadata": {},
   "outputs": [
    {
     "name": "stdout",
     "output_type": "stream",
     "text": [
      "First 10 rows of Z-scores DataFrame:\n",
      "   Children       Age    Income  Outage_sec_perweek  Yearly_equip_failure  \\\n",
      "0 -0.972338  0.720925 -0.398778           -0.679978              0.946658   \n",
      "1 -0.506592 -1.259957 -0.641954            0.570331              0.946658   \n",
      "2  0.890646 -0.148730 -1.070885            0.252347              0.946658   \n",
      "3 -0.506592 -0.245359 -0.740525            1.650506             -0.625864   \n",
      "4 -0.972338  1.445638  0.009478           -0.623156              0.946658   \n",
      "5  0.424900  1.445638 -0.608072           -0.531225              0.946658   \n",
      "6 -0.972338  1.252381 -1.004997            0.396817              0.946658   \n",
      "7 -0.040846 -1.115015 -0.462694           -0.742712             -0.625864   \n",
      "8 -0.040846 -0.197045  0.667680           -1.432469              4.091701   \n",
      "9 -0.506592  1.590581  0.369682           -0.434839             -0.625864   \n",
      "\n",
      "     Techie  Port_modem    Tablet     Phone  Multiple  ...     Item8  \\\n",
      "0 -0.449198    1.033770  1.530805  0.320781 -0.924445  ...  0.490384   \n",
      "1  2.226191   -0.967333  1.530805  0.320781  1.081730  ...  0.490384   \n",
      "2  2.226191    1.033770 -0.653251  0.320781  1.081730  ... -0.481828   \n",
      "3  2.226191   -0.967333 -0.653251  0.320781 -0.924445  ... -0.481828   \n",
      "4 -0.449198    1.033770 -0.653251 -3.117389 -0.924445  ...  1.462596   \n",
      "5 -0.449198    1.033770 -0.653251  0.320781  1.081730  ... -0.481828   \n",
      "6  2.226191   -0.967333 -0.653251  0.320781 -0.924445  ...  1.462596   \n",
      "7  2.226191   -0.967333 -0.653251 -3.117389 -0.924445  ...  1.462596   \n",
      "8 -0.449198    1.033770 -0.653251  0.320781 -0.924445  ...  0.490384   \n",
      "9 -0.449198    1.033770 -0.653251  0.320781 -0.924445  ... -0.481828   \n",
      "\n",
      "      churn  Gender_Male  Gender_Nonbinary  Contract_Month-to-month  \\\n",
      "0 -0.600453     1.052581         -0.153773                -1.095767   \n",
      "1  1.665408    -0.950046         -0.153773                 0.912603   \n",
      "2 -0.600453    -0.950046         -0.153773                -1.095767   \n",
      "3 -0.600453     1.052581         -0.153773                -1.095767   \n",
      "4  1.665408     1.052581         -0.153773                 0.912603   \n",
      "5 -0.600453    -0.950046         -0.153773                -1.095767   \n",
      "6  1.665408     1.052581         -0.153773                 0.912603   \n",
      "7  1.665408    -0.950046         -0.153773                 0.912603   \n",
      "8 -0.600453    -0.950046          6.503080                 0.912603   \n",
      "9 -0.600453    -0.950046         -0.153773                -1.095767   \n",
      "\n",
      "   Contract_One year  Contract_Two Year  InternetService_DSL  \\\n",
      "0           1.938395          -0.568420            -0.727842   \n",
      "1          -0.515891          -0.568420            -0.727842   \n",
      "2          -0.515891           1.759262             1.373925   \n",
      "3          -0.515891           1.759262             1.373925   \n",
      "4          -0.515891          -0.568420            -0.727842   \n",
      "5           1.938395          -0.568420            -0.727842   \n",
      "6          -0.515891          -0.568420             1.373925   \n",
      "7          -0.515891          -0.568420             1.373925   \n",
      "8          -0.515891          -0.568420             1.373925   \n",
      "9          -0.515891           1.759262            -0.727842   \n",
      "\n",
      "   InternetService_Fiber Optic  InternetService_None  \n",
      "0                     1.126323             -0.520083  \n",
      "1                     1.126323             -0.520083  \n",
      "2                    -0.887845             -0.520083  \n",
      "3                    -0.887845             -0.520083  \n",
      "4                     1.126323             -0.520083  \n",
      "5                    -0.887845              1.922769  \n",
      "6                    -0.887845             -0.520083  \n",
      "7                    -0.887845             -0.520083  \n",
      "8                    -0.887845             -0.520083  \n",
      "9                     1.126323             -0.520083  \n",
      "\n",
      "[10 rows x 36 columns]\n"
     ]
    }
   ],
   "source": [
    "print(\"First 10 rows of Z-scores DataFrame:\")\n",
    "print(z_scores.head(10))"
   ]
  },
  {
   "cell_type": "code",
   "execution_count": 10,
   "id": "c5523af5-6e11-4a60-9abb-2ba8287b36ba",
   "metadata": {},
   "outputs": [],
   "source": [
    "# Identify rows with Z-scores above the threshold\n",
    "outliers = np.where(np.abs(z_scores) > threshold)"
   ]
  },
  {
   "cell_type": "code",
   "execution_count": 11,
   "id": "5bb5d7f6-e144-4205-a5a2-e34c660c9b1e",
   "metadata": {},
   "outputs": [],
   "source": [
    "# Get the indices of the rows with outliers\n",
    "outlier_indices = list(set(outliers[0]))"
   ]
  },
  {
   "cell_type": "code",
   "execution_count": 12,
   "id": "82e0d840-c274-42d9-9118-97e390b831a3",
   "metadata": {},
   "outputs": [
    {
     "name": "stdout",
     "output_type": "stream",
     "text": [
      "Indices of rows with outliers:\n",
      "[8194, 4, 7, 8, 10, 8205, 14, 8208, 8211, 20, 30, 8223, 8225, 8231, 8234, 46, 8241, 8242, 8244, 8254, 8257, 67, 8260, 70, 8265, 76, 8268, 8277, 8281, 91, 97, 100, 104, 107, 108, 8311, 8313, 8317, 8318, 127, 130, 137, 138, 8329, 144, 146, 147, 8348, 8353, 170, 171, 8366, 8369, 179, 8371, 181, 8372, 8375, 186, 8382, 8384, 8389, 202, 210, 214, 8410, 8412, 221, 8417, 227, 239, 254, 258, 261, 264, 8457, 268, 8461, 8476, 285, 8484, 8486, 295, 8488, 8490, 8491, 300, 302, 308, 8500, 8512, 322, 8516, 8518, 329, 8522, 8525, 334, 8530, 8533, 8534, 344, 8536, 346, 8539, 348, 8541, 358, 359, 8551, 369, 8563, 8570, 8574, 8581, 393, 8588, 397, 404, 8596, 8598, 8600, 417, 8613, 425, 8620, 8624, 434, 8627, 442, 443, 446, 8640, 449, 450, 8643, 8644, 8647, 8649, 8653, 466, 8658, 470, 8664, 474, 8666, 8669, 8670, 479, 480, 487, 490, 8687, 8694, 504, 8698, 8702, 511, 513, 527, 8721, 8723, 533, 8729, 542, 8735, 8736, 8738, 550, 8744, 554, 8748, 559, 560, 8751, 564, 8764, 573, 8769, 578, 8770, 8774, 583, 8777, 592, 599, 600, 8792, 8801, 621, 623, 629, 630, 8824, 8826, 8827, 8828, 8829, 8830, 639, 641, 656, 8857, 8863, 685, 688, 697, 698, 699, 700, 710, 8905, 716, 8912, 8913, 8916, 736, 8928, 738, 746, 747, 8939, 750, 8943, 753, 754, 8955, 8956, 770, 8965, 8968, 777, 778, 786, 8980, 793, 8988, 8990, 8991, 802, 8997, 9002, 811, 9003, 820, 822, 824, 9019, 837, 9031, 9032, 841, 9033, 9036, 9037, 9039, 851, 852, 9045, 857, 861, 862, 868, 9066, 876, 9068, 878, 9069, 9070, 9077, 890, 9086, 895, 898, 899, 901, 9096, 908, 9102, 9108, 919, 9118, 9120, 929, 9122, 9125, 936, 938, 939, 9130, 944, 947, 948, 950, 954, 957, 9157, 9160, 972, 975, 9167, 977, 982, 9175, 987, 9179, 9180, 9182, 9183, 9185, 996, 1000, 9198, 1009, 1014, 1017, 1020, 9212, 1022, 1038, 9231, 1040, 9233, 1044, 1045, 9237, 9244, 9249, 1058, 9252, 1067, 1069, 9267, 1082, 9274, 1087, 9282, 1092, 9284, 1094, 1095, 1096, 9286, 1101, 9294, 1103, 1108, 1114, 1115, 1116, 9308, 9309, 9310, 1122, 1123, 9319, 9320, 1129, 9322, 9330, 9332, 9334, 9335, 1149, 9341, 1152, 9348, 9352, 1168, 9361, 9364, 1173, 9373, 9376, 1189, 9383, 9386, 1195, 1197, 1199, 9391, 1201, 9396, 9399, 9402, 1224, 1228, 9420, 9422, 9423, 9425, 9428, 9436, 1245, 1246, 9440, 1249, 1250, 1257, 1262, 1269, 9461, 9462, 1278, 1282, 9476, 9481, 9482, 9487, 1297, 1298, 9490, 1302, 1303, 1306, 9498, 9500, 1313, 1315, 1317, 1322, 9515, 9523, 1334, 9529, 9539, 9547, 1360, 1366, 1367, 9559, 1370, 9563, 9564, 1378, 1382, 1387, 9583, 9585, 9586, 1397, 1399, 1400, 9594, 1406, 1407, 9599, 9600, 1412, 9606, 1415, 9609, 9610, 1419, 9614, 9615, 9618, 1428, 9620, 9623, 1437, 1442, 1444, 9639, 1453, 9651, 9655, 9656, 1466, 1467, 1468, 9660, 1472, 1477, 9671, 1480, 1482, 9674, 9675, 9676, 1491, 9685, 9693, 1503, 9696, 9697, 1510, 1512, 1513, 9706, 9713, 1524, 1526, 1529, 9721, 9723, 9724, 9730, 1547, 1550, 1551, 9745, 9747, 1556, 1558, 1560, 9760, 9762, 9763, 9764, 1577, 9769, 9774, 1583, 9775, 9776, 1588, 1591, 1594, 1596, 9790, 9795, 9796, 9803, 9804, 1614, 1615, 9806, 1623, 9818, 1628, 1630, 1632, 1633, 1634, 9826, 9827, 9828, 1639, 1642, 9842, 1651, 9849, 9852, 1667, 9860, 1670, 1671, 1675, 9868, 9869, 1678, 9870, 9871, 9876, 1693, 9897, 9898, 9901, 9902, 9911, 1721, 1725, 1726, 9920, 9931, 9936, 1750, 1751, 9948, 9952, 1761, 9955, 1764, 9967, 1778, 1779, 1780, 1784, 1787, 1788, 1790, 9986, 9988, 1800, 1802, 9998, 1813, 1819, 1831, 1838, 1840, 1841, 1849, 1854, 1857, 1859, 1860, 1874, 1887, 1888, 1894, 1900, 1901, 1904, 1908, 1917, 1923, 1928, 1930, 1934, 1935, 1937, 1938, 1939, 1943, 1946, 1947, 1951, 1964, 1995, 1997, 2007, 2011, 2012, 2017, 2022, 2026, 2033, 2042, 2043, 2047, 2050, 2070, 2072, 2073, 2087, 2096, 2104, 2112, 2114, 2123, 2124, 2125, 2126, 2131, 2134, 2150, 2152, 2157, 2179, 2185, 2189, 2192, 2197, 2199, 2209, 2220, 2237, 2250, 2252, 2264, 2271, 2273, 2283, 2284, 2285, 2290, 2300, 2301, 2302, 2306, 2314, 2322, 2330, 2335, 2339, 2343, 2350, 2352, 2354, 2355, 2356, 2360, 2362, 2366, 2367, 2371, 2374, 2375, 2384, 2388, 2394, 2396, 2409, 2417, 2421, 2422, 2427, 2445, 2447, 2448, 2454, 2460, 2480, 2482, 2503, 2506, 2508, 2515, 2529, 2531, 2532, 2555, 2558, 2560, 2564, 2565, 2575, 2577, 2586, 2595, 2598, 2622, 2628, 2632, 2639, 2640, 2649, 2653, 2658, 2662, 2665, 2668, 2671, 2680, 2682, 2684, 2685, 2688, 2694, 2702, 2716, 2724, 2731, 2736, 2739, 2740, 2743, 2744, 2747, 2762, 2770, 2786, 2796, 2800, 2805, 2807, 2809, 2812, 2818, 2832, 2835, 2836, 2843, 2851, 2856, 2858, 2874, 2882, 2896, 2905, 2920, 2921, 2922, 2927, 2928, 2938, 2950, 2952, 2964, 2980, 2984, 2995, 3000, 3001, 3005, 3011, 3022, 3023, 3039, 3044, 3046, 3048, 3057, 3066, 3068, 3071, 3076, 3085, 3092, 3095, 3096, 3100, 3101, 3107, 3112, 3116, 3120, 3121, 3131, 3132, 3156, 3176, 3181, 3192, 3196, 3202, 3209, 3211, 3225, 3232, 3235, 3237, 3245, 3258, 3259, 3269, 3270, 3281, 3285, 3304, 3314, 3315, 3316, 3324, 3325, 3331, 3335, 3344, 3347, 3354, 3357, 3358, 3374, 3380, 3383, 3388, 3390, 3394, 3397, 3399, 3401, 3403, 3412, 3416, 3419, 3421, 3434, 3437, 3447, 3450, 3461, 3467, 3468, 3490, 3512, 3516, 3525, 3527, 3529, 3530, 3532, 3538, 3544, 3547, 3549, 3550, 3551, 3555, 3559, 3560, 3563, 3565, 3573, 3578, 3579, 3584, 3585, 3593, 3596, 3597, 3601, 3602, 3603, 3605, 3610, 3612, 3614, 3619, 3625, 3627, 3629, 3636, 3643, 3644, 3649, 3653, 3658, 3661, 3668, 3674, 3690, 3695, 3696, 3701, 3725, 3734, 3736, 3744, 3746, 3757, 3767, 3776, 3778, 3779, 3782, 3791, 3795, 3798, 3802, 3803, 3807, 3810, 3845, 3851, 3869, 3880, 3883, 3893, 3899, 3900, 3931, 3933, 3934, 3935, 3936, 3941, 3942, 3946, 3953, 3956, 3967, 3970, 3972, 3976, 3985, 3988, 3989, 3995, 4004, 4008, 4010, 4011, 4018, 4019, 4020, 4022, 4024, 4041, 4046, 4049, 4052, 4054, 4061, 4069, 4075, 4077, 4084, 4099, 4101, 4102, 4111, 4116, 4126, 4129, 4137, 4138, 4144, 4159, 4172, 4174, 4182, 4183, 4184, 4190, 4191, 4192, 4205, 4210, 4212, 4222, 4227, 4235, 4240, 4249, 4259, 4262, 4266, 4268, 4273, 4279, 4293, 4318, 4325, 4334, 4335, 4337, 4340, 4342, 4345, 4349, 4354, 4359, 4368, 4369, 4371, 4375, 4383, 4387, 4393, 4404, 4406, 4415, 4417, 4427, 4433, 4453, 4456, 4462, 4466, 4472, 4476, 4483, 4486, 4487, 4488, 4494, 4499, 4503, 4517, 4529, 4531, 4532, 4543, 4548, 4549, 4554, 4562, 4584, 4586, 4590, 4607, 4626, 4628, 4634, 4651, 4652, 4656, 4658, 4660, 4664, 4677, 4684, 4686, 4687, 4693, 4695, 4697, 4698, 4704, 4705, 4715, 4718, 4724, 4734, 4740, 4743, 4746, 4750, 4751, 4755, 4757, 4760, 4766, 4772, 4786, 4792, 4794, 4795, 4796, 4798, 4817, 4842, 4848, 4865, 4871, 4875, 4882, 4883, 4887, 4901, 4904, 4908, 4909, 4913, 4916, 4921, 4946, 4952, 4953, 4958, 4960, 5027, 5041, 5042, 5050, 5051, 5052, 5055, 5057, 5075, 5078, 5085, 5099, 5105, 5113, 5124, 5128, 5134, 5135, 5143, 5156, 5157, 5166, 5170, 5176, 5177, 5178, 5181, 5188, 5194, 5199, 5200, 5205, 5208, 5219, 5221, 5223, 5226, 5230, 5231, 5232, 5247, 5249, 5256, 5263, 5264, 5276, 5280, 5283, 5289, 5297, 5308, 5309, 5311, 5320, 5324, 5331, 5332, 5335, 5336, 5340, 5341, 5348, 5350, 5363, 5368, 5370, 5376, 5379, 5383, 5388, 5392, 5393, 5399, 5401, 5402, 5405, 5407, 5421, 5429, 5437, 5441, 5445, 5447, 5451, 5453, 5458, 5461, 5464, 5471, 5489, 5502, 5511, 5514, 5520, 5522, 5527, 5529, 5545, 5553, 5557, 5560, 5574, 5575, 5582, 5583, 5586, 5587, 5599, 5602, 5605, 5617, 5620, 5652, 5659, 5671, 5678, 5680, 5688, 5694, 5706, 5712, 5719, 5721, 5728, 5732, 5735, 5737, 5741, 5748, 5752, 5757, 5763, 5768, 5778, 5779, 5787, 5789, 5794, 5795, 5798, 5800, 5801, 5805, 5809, 5833, 5841, 5851, 5853, 5855, 5864, 5866, 5867, 5868, 5869, 5885, 5891, 5914, 5917, 5923, 5930, 5936, 5940, 5942, 5950, 5956, 5958, 5962, 5965, 5971, 5977, 5981, 6003, 6005, 6013, 6030, 6032, 6034, 6038, 6050, 6052, 6057, 6066, 6070, 6081, 6086, 6092, 6093, 6098, 6102, 6111, 6118, 6124, 6127, 6130, 6131, 6136, 6141, 6143, 6146, 6147, 6148, 6152, 6153, 6155, 6159, 6168, 6177, 6181, 6194, 6196, 6198, 6211, 6224, 6231, 6233, 6253, 6258, 6264, 6272, 6300, 6304, 6305, 6306, 6307, 6308, 6310, 6318, 6321, 6345, 6347, 6361, 6366, 6367, 6370, 6371, 6373, 6387, 6391, 6406, 6411, 6427, 6435, 6440, 6446, 6447, 6449, 6454, 6460, 6463, 6464, 6469, 6479, 6496, 6509, 6512, 6516, 6517, 6526, 6528, 6531, 6543, 6571, 6575, 6579, 6580, 6586, 6588, 6590, 6594, 6602, 6612, 6613, 6615, 6619, 6624, 6631, 6633, 6637, 6640, 6649, 6662, 6684, 6688, 6695, 6701, 6703, 6704, 6708, 6714, 6719, 6720, 6721, 6737, 6743, 6766, 6783, 6796, 6797, 6804, 6805, 6806, 6807, 6831, 6832, 6837, 6841, 6844, 6845, 6858, 6862, 6877, 6887, 6901, 6903, 6921, 6946, 6947, 6965, 6971, 6978, 6989, 6993, 7017, 7018, 7022, 7042, 7043, 7044, 7049, 7053, 7055, 7056, 7076, 7094, 7097, 7107, 7109, 7111, 7113, 7114, 7127, 7129, 7138, 7146, 7149, 7162, 7167, 7168, 7177, 7185, 7206, 7212, 7214, 7218, 7222, 7231, 7251, 7259, 7260, 7263, 7268, 7270, 7272, 7273, 7278, 7285, 7296, 7301, 7322, 7331, 7337, 7341, 7347, 7350, 7353, 7356, 7357, 7372, 7374, 7381, 7408, 7415, 7425, 7428, 7454, 7458, 7460, 7467, 7479, 7480, 7486, 7487, 7490, 7496, 7499, 7502, 7506, 7507, 7514, 7519, 7522, 7528, 7531, 7534, 7538, 7544, 7564, 7566, 7569, 7571, 7573, 7574, 7580, 7603, 7611, 7614, 7615, 7637, 7640, 7641, 7645, 7646, 7651, 7672, 7673, 7674, 7680, 7684, 7701, 7706, 7715, 7742, 7754, 7757, 7770, 7774, 7775, 7779, 7781, 7787, 7800, 7802, 7804, 7815, 7825, 7827, 7833, 7835, 7840, 7869, 7870, 7883, 7890, 7909, 7933, 7947, 7952, 7953, 7958, 7963, 7984, 7991, 7994, 7999, 8011, 8017, 8020, 8024, 8027, 8031, 8032, 8041, 8046, 8054, 8061, 8062, 8070, 8083, 8085, 8096, 8105, 8117, 8126, 8128, 8137, 8146, 8149, 8157, 8163, 8170, 8173, 8174, 8179, 8182, 8187, 8190]\n"
     ]
    }
   ],
   "source": [
    "print(\"Indices of rows with outliers:\")\n",
    "print(outlier_indices)"
   ]
  },
  {
   "cell_type": "code",
   "execution_count": 13,
   "id": "e9c78d61-ba17-472b-b478-6d820c4d876b",
   "metadata": {},
   "outputs": [],
   "source": [
    "# Drop the rows with outliers\n",
    "df = df.drop(df.index[outlier_indices])"
   ]
  },
  {
   "cell_type": "code",
   "execution_count": 14,
   "id": "556271aa-041e-429a-9dd3-abf78ee218db",
   "metadata": {},
   "outputs": [
    {
     "name": "stdout",
     "output_type": "stream",
     "text": [
      "First 10 rows of the updated dataframe:\n",
      "    Children  Age     Income  Outage_sec_perweek  Yearly_equip_failure  \\\n",
      "0          0   68   28561.99            7.978323                     1   \n",
      "1          1   27   21704.77           11.699080                     1   \n",
      "2          4   50    9609.57           10.752800                     1   \n",
      "3          1   48   18925.23           14.913540                     0   \n",
      "5          3   83   22660.20            8.420993                     1   \n",
      "6          0   79   11467.50           11.182725                     1   \n",
      "9          1   86   50231.40            8.707824                     0   \n",
      "11         2   56   18342.12            6.680826                     1   \n",
      "12         0   83   83671.08            8.273875                     0   \n",
      "13         5   29  115114.57            5.880566                     0   \n",
      "\n",
      "    Techie  Port_modem  Tablet  Phone  Multiple  ...  Item8  churn  \\\n",
      "0        0           1       1      1         0  ...      4      0   \n",
      "1        1           0       1      1         1  ...      4      1   \n",
      "2        1           1       0      1         1  ...      3      0   \n",
      "3        1           0       0      1         0  ...      3      0   \n",
      "5        0           1       0      1         1  ...      3      0   \n",
      "6        1           0       0      1         0  ...      5      1   \n",
      "9        0           1       0      1         0  ...      3      0   \n",
      "11       0           1       0      1         0  ...      4      0   \n",
      "12       0           1       0      1         0  ...      3      0   \n",
      "13       0           1       1      1         1  ...      4      0   \n",
      "\n",
      "    Gender_Male  Gender_Nonbinary  Contract_Month-to-month  Contract_One year  \\\n",
      "0             1                 0                        0                  1   \n",
      "1             0                 0                        1                  0   \n",
      "2             0                 0                        0                  0   \n",
      "3             1                 0                        0                  0   \n",
      "5             0                 0                        0                  1   \n",
      "6             1                 0                        1                  0   \n",
      "9             0                 0                        0                  0   \n",
      "11            0                 0                        1                  0   \n",
      "12            1                 0                        1                  0   \n",
      "13            0                 0                        0                  0   \n",
      "\n",
      "    Contract_Two Year  InternetService_DSL  InternetService_Fiber Optic  \\\n",
      "0                   0                    0                            1   \n",
      "1                   0                    0                            1   \n",
      "2                   1                    1                            0   \n",
      "3                   1                    1                            0   \n",
      "5                   0                    0                            0   \n",
      "6                   0                    1                            0   \n",
      "9                   1                    0                            1   \n",
      "11                  0                    0                            1   \n",
      "12                  0                    0                            1   \n",
      "13                  1                    0                            1   \n",
      "\n",
      "    InternetService_None  \n",
      "0                      0  \n",
      "1                      0  \n",
      "2                      0  \n",
      "3                      0  \n",
      "5                      1  \n",
      "6                      0  \n",
      "9                      0  \n",
      "11                     0  \n",
      "12                     0  \n",
      "13                     0  \n",
      "\n",
      "[10 rows x 36 columns]\n"
     ]
    }
   ],
   "source": [
    "print(\"First 10 rows of the updated dataframe:\")\n",
    "print(df.head(10))"
   ]
  },
  {
   "cell_type": "code",
   "execution_count": 15,
   "id": "463e447f-cedd-41a7-aa0a-02b24e4007b6",
   "metadata": {},
   "outputs": [],
   "source": [
    "# Split the data into training and test data sets and provide the file(s).\n",
    "train, test = train_test_split(df, test_size=0.2, random_state=42)\n",
    "train.to_csv('traind209p1.csv', index=False)\n",
    "test.to_csv('test209p1.csv', index=False)"
   ]
  },
  {
   "cell_type": "code",
   "execution_count": 16,
   "id": "caa74875-98ea-4860-958c-66a619d43a5c",
   "metadata": {
    "tags": []
   },
   "outputs": [],
   "source": [
    "# Split the data into training and test sets\n",
    "X = df.drop(['churn'], axis=1)\n",
    "y = df['churn']\n",
    "X_train, X_test, y_train, y_test = train_test_split(X, y, test_size=0.2, random_state=42)"
   ]
  },
  {
   "cell_type": "code",
   "execution_count": 17,
   "id": "f28b0303-219b-40ee-84bd-f766b4d3e237",
   "metadata": {},
   "outputs": [
    {
     "data": {
      "text/plain": [
       "GaussianNB()"
      ]
     },
     "execution_count": 17,
     "metadata": {},
     "output_type": "execute_result"
    }
   ],
   "source": [
    "# Create the Naive Bayes model\n",
    "nb = GaussianNB()\n",
    "nb.fit(X_train, y_train)"
   ]
  },
  {
   "cell_type": "code",
   "execution_count": 18,
   "id": "8c00a1db-a5dc-4fe4-a683-3f186bd7b0f0",
   "metadata": {},
   "outputs": [],
   "source": [
    "# Predict using the test set\n",
    "y_pred = nb.predict(X_test)"
   ]
  },
  {
   "cell_type": "code",
   "execution_count": 19,
   "id": "d730b919-1f5f-4206-ac20-b39a93f67aa2",
   "metadata": {
    "tags": []
   },
   "outputs": [
    {
     "name": "stdout",
     "output_type": "stream",
     "text": [
      "Accuracy:  0.7799642218246869\n"
     ]
    }
   ],
   "source": [
    "# Evaluate the model's accuracy\n",
    "accuracy = accuracy_score(y_test, y_pred)\n",
    "print(\"Accuracy: \", accuracy)"
   ]
  },
  {
   "cell_type": "code",
   "execution_count": 20,
   "id": "50dd4757-e3dc-4a7c-935c-37e269fbc202",
   "metadata": {
    "tags": []
   },
   "outputs": [
    {
     "name": "stdout",
     "output_type": "stream",
     "text": [
      "AUC: 0.817020963603252\n"
     ]
    }
   ],
   "source": [
    "auc = roc_auc_score(y_test, y_pred)\n",
    "print(\"AUC:\", auc)"
   ]
  },
  {
   "cell_type": "code",
   "execution_count": 21,
   "id": "a27f665a-1a10-4f90-83ff-2cc1517f85e9",
   "metadata": {
    "tags": []
   },
   "outputs": [
    {
     "name": "stdout",
     "output_type": "stream",
     "text": [
      "Accuracy:  0.7799642218246869\n",
      "AUC: 0.817020963603252\n"
     ]
    },
    {
     "data": {
      "image/png": "[encoded data removed]",
      "text/plain": [
       "<Figure size 640x480 with 1 Axes>"
      ]
     },
     "metadata": {},
     "output_type": "display_data"
    }
   ],
   "source": [
    "# Evaluate the model's accuracy and AUC\n",
    "accuracy = accuracy_score(y_test, y_pred)\n",
    "auc = roc_auc_score(y_test, y_pred)\n",
    "print(\"Accuracy: \", accuracy)\n",
    "print(\"AUC:\", auc)\n",
    "\n",
    "# Plot the accuracy and AUC\n",
    "width = 0.35\n",
    "fig, ax = plt.subplots()\n",
    "rects1 = ax.bar(1, accuracy, width, color='red')\n",
    "rects2 = ax.bar(2, auc, width, color='blue')\n",
    "ax.set_ylabel('Score')\n",
    "ax.set_title('Accuracy and AUC Comparison')\n",
    "ax.set_xticks([1, 2])\n",
    "ax.set_xticklabels(['Accuracy', 'AUC'])\n",
    "plt.show()"
   ]
  },
  {
   "cell_type": "code",
   "execution_count": 22,
   "id": "a5648a34-e5a3-486d-821c-3dfed1254f26",
   "metadata": {
    "tags": []
   },
   "outputs": [],
   "source": [
    "df.to_csv(\"D209p1_clean.csv\", index=False)"
   ]
  }
 ],
 "metadata": {
  "kernelspec": {
   "display_name": "Python 3 (ipykernel)",
   "language": "python",
   "name": "python3"
  },
  "language_info": {
   "codemirror_mode": {
    "name": "ipython",
    "version": 3
   },
   "file_extension": ".py",
   "mimetype": "text/x-python",
   "name": "python",
   "nbconvert_exporter": "python",
   "pygments_lexer": "ipython3",
   "version": "3.9.13"
  }
 },
 "nbformat": 4,
 "nbformat_minor": 5
}
