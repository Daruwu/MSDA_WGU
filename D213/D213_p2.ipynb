{
 "cells": [
  {
   "cell_type": "markdown",
   "id": "e6910961-2daf-4cf0-b912-022de81a985b",
   "metadata": {
    "tags": []
   },
   "source": [
    "# D213 Sentiment Analysis Using Neural Networks\n",
    "\n",
    "# Introduction:\n",
    "## In this study, we aim to address the practical question of whether we can achieve accurate sentiment prediction (positive or negative) for movie reviews utilizing neural network models and natural language processing (NLP) techniques. By employing a well-structured dataset of movie reviews, our research seeks to explore the capability of neural network models to effectively analyze and interpret textual data for sentiment classification. This research is highly relevant to real-world organizational scenarios, as sentiment analysis of movie reviews plays a critical role in understanding customer opinions, gauging audience preferences, and making data-driven decisions in the entertainment industry. The insights gained from this investigation can empower movie studios, production companies, and streaming platforms to enhance their marketing strategies, tailor content to audience preferences, and improve overall user experience.\n",
    "\n",
    "# Goals:\n",
    "## Can we develop and train a neural network model capable of sentiment analysis on movie reviews?\n",
    "## How accurate is the model in predicting sentiment labels (positive or negative) based on the given dataset?\n",
    "\n",
    "# Part 1:\n",
    "## We started by loading the movie review texts and their corresponding sentiment labels from our file. To ensure consistency in our data, we converted all the texts to lowercase. Next, we wanted to ensure that our dataset did not contain any unusual characters that could potentially affect our analysis. We identified and removed any such characters from the movie review texts, thereby cleaning the data for further processing.\n",
    "\n",
    "## One crucial aspect of our analysis was to determine the optimal maximum sequence length for our text data. To achieve this, we calculated the length of each movie review in terms of the number of words. By plotting a histogram of these text lengths, we were able to visualize the distribution and identify the maximum sequence length needed to cover a specific percentage of the data. This step was essential for appropriately handling text data of varying lengths in our neural network model.\n",
    "\n",
    "## Next, we counted the number of special characters removed from each movie review. Then we counted the total number of positive and negative reviews, which gave us a better understanding of the balance between the two classes."
   ]
  },
  {
   "cell_type": "code",
   "execution_count": 1,
   "id": "ff6c2326-6698-4da2-bb59-a8c9ccfbbef3",
   "metadata": {
    "tags": []
   },
   "outputs": [
    {
     "data": {
      "image/png": "[encoded data removed]",
      "text/plain": [
       "<Figure size 640x480 with 1 Axes>"
      ]
     },
     "metadata": {},
     "output_type": "display_data"
    },
    {
     "name": "stdout",
     "output_type": "stream",
     "text": [
      "Chosen maximum sequence length (for 95th percentile): 33\n",
      "Unusual characters found:\n",
      "{'é', '\\x96', 'å', '\\x85', '\\x97'}\n",
      "Total Positive Reviews: 500\n",
      "Total Negative Reviews: 500\n",
      "Total Special Characters Removed: 2785\n"
     ]
    }
   ],
   "source": [
    "import tensorflow as tf\n",
    "import numpy as np\n",
    "import re\n",
    "from tensorflow.keras.callbacks import EarlyStopping, ModelCheckpoint\n",
    "from sklearn.model_selection import train_test_split\n",
    "import matplotlib.pyplot as plt\n",
    "\n",
    "\n",
    "# Load data from the file and convert to lowercase\n",
    "def load_data(file_path):\n",
    "    texts = []\n",
    "    labels = []\n",
    "    with open(file_path, 'r', encoding='utf-8') as file:\n",
    "        for line in file:\n",
    "            text, label = line.strip().split('\\t')\n",
    "            texts.append(text.lower())  # Convert to lowercase\n",
    "            labels.append(int(label))\n",
    "    return texts, labels\n",
    "\n",
    "\n",
    "def check_unusual_characters(texts):\n",
    "    unusual_chars = set()\n",
    "    for text in texts:\n",
    "        for char in text:\n",
    "            if ord(char) > 127:\n",
    "                unusual_chars.add(char)\n",
    "    return unusual_chars\n",
    "\n",
    "\n",
    "def clean_text(text):\n",
    "    # Remove special characters and digits\n",
    "    text = re.sub(r'[^a-zA-Z\\s]', '', text)\n",
    "    return text\n",
    "\n",
    "\n",
    "def count_special_characters(text):\n",
    "    # Count the number of special characters removed\n",
    "    special_chars = re.findall(r'[^a-zA-Z\\s]', text)\n",
    "    return len(special_chars)\n",
    "\n",
    "\n",
    "# Count the number of positive (1) and negative (0) reviews\n",
    "def count_reviews(labels):\n",
    "    positive_reviews = sum(label == 1 for label in labels)\n",
    "    negative_reviews = sum(label == 0 for label in labels)\n",
    "    return positive_reviews, negative_reviews\n",
    "\n",
    "\n",
    "# Function to train and evaluate the model with a given word embedding length and early stopping\n",
    "def train_and_evaluate_model(embedding_length):\n",
    "    model = create_model(embedding_length)\n",
    "    early_stopping = EarlyStopping(monitor='val_loss', patience=3, restore_best_weights=True)\n",
    "    model_checkpoint = ModelCheckpoint('best_model.h5', save_best_only=True, save_weights_only=True, monitor='val_loss', mode='min')\n",
    "    history = model.fit(train_sequences, train_labels, epochs=50, batch_size=64, validation_split=0.2, callbacks=[early_stopping, model_checkpoint])\n",
    "    validation_loss, validation_accuracy = model.evaluate(validation_sequences, validation_labels)\n",
    "    return model, history, validation_accuracy\n",
    "\n",
    "\n",
    "# Load the IMDb dataset from the file and convert to lowercase\n",
    "train_texts, train_labels = load_data('imdb_labelled.txt')\n",
    "\n",
    "# Calculate text lengths\n",
    "text_lengths = [len(text.split()) for text in train_texts]\n",
    "\n",
    "# Calculate the maximum sequence length required to cover a certain percentage of the data\n",
    "percentile = 95  # You can adjust this value based on your preference\n",
    "max_sequence_length = int(np.percentile(text_lengths, percentile))\n",
    "\n",
    "# Plot the distribution of text lengths\n",
    "plt.hist(text_lengths, bins=50, range=(0, max_sequence_length))\n",
    "plt.xlabel('Text Length')\n",
    "plt.ylabel('Frequency')\n",
    "plt.title('Distribution of Text Lengths')\n",
    "plt.axvline(max_sequence_length, color='red', linestyle='dashed', linewidth=2, label=f'{percentile}th Percentile')\n",
    "plt.legend()\n",
    "plt.show()\n",
    "\n",
    "print(f\"Chosen maximum sequence length (for {percentile}th percentile): {max_sequence_length}\")\n",
    "\n",
    "# Find unusual characters\n",
    "unusual_chars = check_unusual_characters(train_texts)\n",
    "\n",
    "if unusual_chars:\n",
    "    print(\"Unusual characters found:\")\n",
    "    print(unusual_chars)\n",
    "else:\n",
    "    print(\"No unusual characters found.\")\n",
    "\n",
    "# Clean the text data\n",
    "train_texts_cleaned = [clean_text(text) for text in train_texts]\n",
    "\n",
    "# Count special characters\n",
    "special_char_count = [count_special_characters(text) for text in train_texts]\n",
    "\n",
    "# Count the number of positive (1) and negative (0) reviews\n",
    "positive_reviews, negative_reviews = count_reviews(train_labels)\n",
    "\n",
    "print(f'Total Positive Reviews: {positive_reviews}')\n",
    "print(f'Total Negative Reviews: {negative_reviews}')\n",
    "print(f'Total Special Characters Removed: {sum(special_char_count)}')"
   ]
  },
  {
   "cell_type": "markdown",
   "id": "d2250bd5-c66d-42f6-a069-37fb07d3f57a",
   "metadata": {
    "tags": []
   },
   "source": [
    "# Part 2:\n",
    "## In this part of the project, we split the dataset of movie reviews into training and validation sets, with 80% used for training and 20% for validation. The text data was then cleaned by removing special characters and converted to lowercase. Next, we tokenized the text data to convert it into sequences and determined the vocabulary size based on the unique words in the training set. The sequences were padded to a fixed length to ensure consistent input for the neural network.\n",
    "\n",
    "## We defined the architecture of the neural network, which included an embedding layer, a bidirectional LSTM layer with dropout, a dense hidden layer with regularization, and a final output layer with sigmoid activation for binary classification (positive or negative sentiment). The model was compiled with the Adam optimizer and binary cross-entropy loss, and accuracy was chosen as the evaluation metric.\n",
    "\n",
    "## To optimize the model, we experimented with different word embedding lengths (50, 100, 200, 300) and evaluated their performance on the validation set. Each model was trained with early stopping, which stopped training if the validation loss did not improve significantly. The model with the best validation accuracy was selected as the optimal model.\n",
    "\n",
    "## The training and validation loss and accuracy were visualized over epochs to understand the model's performance and identify potential signs of overfitting. The best embedding length that achieved the highest validation accuracy was chosen as the final model. This model can be used to predict the sentiment of movie reviews with a high level of accuracy."
   ]
  },
  {
   "cell_type": "code",
   "execution_count": null,
   "id": "5f8b83b9-d56a-4408-8c96-dbf7ae736b61",
   "metadata": {
    "tags": []
   },
   "outputs": [
    {
     "name": "stdout",
     "output_type": "stream",
     "text": [
      "Vocabulary Size: 2753\n",
      "Training model with embedding length: 50\n",
      "Epoch 1/50\n",
      " 4/10 [===========>..................] - ETA: 0s - loss: 1.1981 - accuracy: 0.5547"
     ]
    }
   ],
   "source": [
    "# Split the data into training and validation sets (80% training, 20% validation)\n",
    "train_texts, validation_texts, train_labels, validation_labels = train_test_split(train_texts, train_labels, test_size=0.2, random_state=42)\n",
    "\n",
    "# Clean the text data\n",
    "train_texts_cleaned = [clean_text(text) for text in train_texts]\n",
    "validation_texts_cleaned = [clean_text(text) for text in validation_texts]\n",
    "\n",
    "# Tokenize the text data\n",
    "tokenizer = tf.keras.preprocessing.text.Tokenizer()\n",
    "tokenizer.fit_on_texts(train_texts_cleaned)\n",
    "\n",
    "# Vocabulary size\n",
    "vocabulary_size = len(tokenizer.word_index)\n",
    "print(\"Vocabulary Size:\", vocabulary_size)\n",
    "\n",
    "# Convert text to sequences and pad sequences to a fixed length\n",
    "train_sequences = tokenizer.texts_to_sequences(train_texts_cleaned)\n",
    "validation_sequences = tokenizer.texts_to_sequences(validation_texts_cleaned)\n",
    "\n",
    "max_seq_length = max(len(seq) for seq in train_sequences + validation_sequences)\n",
    "\n",
    "train_sequences = tf.keras.preprocessing.sequence.pad_sequences(train_sequences, maxlen=max_seq_length)\n",
    "validation_sequences = tf.keras.preprocessing.sequence.pad_sequences(validation_sequences, maxlen=max_seq_length)\n",
    "\n",
    "train_labels = np.array(train_labels)\n",
    "validation_labels = np.array(validation_labels)\n",
    "\n",
    "# Define the model architecture with regularization and dropout\n",
    "def create_model(embedding_length):\n",
    "    model = tf.keras.Sequential([\n",
    "        tf.keras.layers.Embedding(input_dim=len(tokenizer.word_index) + 1, output_dim=embedding_length, input_length=max_seq_length),\n",
    "        tf.keras.layers.Bidirectional(tf.keras.layers.LSTM(64, dropout=0.2, recurrent_dropout=0.2)),\n",
    "        tf.keras.layers.Dense(32, activation='relu', kernel_regularizer=tf.keras.regularizers.l2(0.01)),\n",
    "        tf.keras.layers.Dense(1, activation='sigmoid')\n",
    "    ])\n",
    "    model.compile(optimizer='adam', loss='binary_crossentropy', metrics=['accuracy'])\n",
    "    return model\n",
    "\n",
    "# Define a list of potential word embedding lengths to experiment with\n",
    "embedding_lengths = [50, 100, 200, 300]\n",
    "\n",
    "# Loop through different embedding lengths and evaluate the performance\n",
    "best_embedding_length = None\n",
    "best_accuracy = 0.0\n",
    "\n",
    "for embedding_length in embedding_lengths:\n",
    "    print(f\"Training model with embedding length: {embedding_length}\")\n",
    "    model, history, validation_accuracy = train_and_evaluate_model(embedding_length)\n",
    "    print(f\"Validation Accuracy with embedding length {embedding_length}: {validation_accuracy}\")\n",
    "\n",
    "    # Keep track of the best embedding length based on validation accuracy\n",
    "    if validation_accuracy > best_accuracy:\n",
    "        best_accuracy = validation_accuracy\n",
    "        best_embedding_length = embedding_length\n",
    "\n",
    "print(f\"\\nBest embedding length: {best_embedding_length}\")\n",
    "\n",
    "# Plot the training and validation loss over epochs\n",
    "plt.plot(history.history['loss'], label='Training Loss')\n",
    "plt.plot(history.history['val_loss'], label='Validation Loss')\n",
    "plt.xlabel('Epochs')\n",
    "plt.ylabel('Loss')\n",
    "plt.legend()\n",
    "plt.title('Training and Validation Loss')\n",
    "plt.show()\n",
    "\n",
    "# Plot the training and validation accuracy over epochs\n",
    "plt.plot(history.history['accuracy'], label='Training Accuracy')\n",
    "plt.plot(history.history['val_accuracy'], label='Validation Accuracy')\n",
    "plt.xlabel('Epochs')\n",
    "plt.ylabel('Accuracy')\n",
    "plt.legend()\n",
    "plt.title('Training and Validation Accuracy')\n",
    "plt.show()"
   ]
  },
  {
   "cell_type": "markdown",
   "id": "e271bc3e-29bd-4c17-a9a5-f74a8089db28",
   "metadata": {
    "tags": []
   },
   "source": [
    "# Part 3: \n",
    "## In the evaluation section of the code, we assessed the presence of overfitting in the trained neural network model. We extracted the final training and validation accuracies from the training history, which contained information about the model's performance during training, including the accuracy and loss at each epoch. We used the indexing -1 to access the last entry, which corresponded to the final epoch.\n",
    "\n",
    "## Next, we printed out the best embedding length that yielded the highest validation accuracy during the experimentation with different embedding lengths.\n",
    "\n",
    "## After that, we displayed the final training and validation accuracies with four decimal places to give a precise understanding of the model's performance on the training and validation data.\n",
    "\n",
    "## Finally, we determined if overfitting was present by comparing the final training accuracy with the final validation accuracy. If the validation accuracy was lower than the training accuracy, it suggested that the model was overfitting the training data and was not generalizing well to unseen data. In this case, the code printed the message: \"The model shows signs of overfitting.\" Otherwise, if the validation accuracy was greater than or equal to the training accuracy, the code printed: \"The model does not show signs of overfitting.\"\n",
    "\n",
    "## By evaluating overfitting, we were able to assess the model's ability to generalize to new data and make better decisions about potential adjustments to improve its performance and prevent overfitting."
   ]
  },
  {
   "cell_type": "code",
   "execution_count": null,
   "id": "44f12a1b-8270-41c9-b245-ad4cbb58e021",
   "metadata": {
    "tags": []
   },
   "outputs": [],
   "source": [
    "# Evaluate overfitting\n",
    "final_training_accuracy = history.history['accuracy'][-1]\n",
    "final_validation_accuracy = history.history['val_accuracy'][-1]\n",
    "print(f\"Best embedding length: {best_embedding_length}\")\n",
    "print(f\"Final Training Accuracy: {final_training_accuracy:.4f}\")\n",
    "print(f\"Final Validation Accuracy: {final_validation_accuracy:.4f}\")\n",
    "\n",
    "# Determine if overfitting is present\n",
    "if final_validation_accuracy < final_training_accuracy:\n",
    "    print(\"The model shows signs of overfitting.\")\n",
    "else:\n",
    "    print(\"The model does not show signs of overfitting.\")"
   ]
  },
  {
   "cell_type": "markdown",
   "id": "a89fb187-bda0-4e9e-9148-93481bc92e62",
   "metadata": {
    "tags": []
   },
   "source": [
    "# Part 4:\n",
    "## In this part of the code, we made predictions on the training data using the trained neural network model. The model.predict(train_sequences) function was used to generate predictions based on the training sequences we prepared earlier. These predictions provided continuous values representing the probability of each review being positive or negative.\n",
    "\n",
    "## Next, to obtain binary labels (0 or 1) from the predictions, we rounded each prediction using the np.round() function and then converted the results to integers using astype(int). This step was necessary to compare the predicted labels with the actual labels later.\n",
    "\n",
    "## After obtaining the binary predicted labels, we counted the number of positive (1) and negative (0) reviews among the predictions using sum(label == 1 for label in predicted_labels) and sum(label == 0 for label in predicted_labels) respectively.\n",
    "\n",
    "## Finally, we printed out the total number of predicted positive and negative reviews based on the model's predictions.\n",
    "\n",
    "## In addition to the predictions, we also displayed a summary of the neural network model's architecture using model.summary(). This summary provided an overview of the model's layers, the number of parameters, and the output shape of each layer, helping us understand the model's structure and complexity."
   ]
  },
  {
   "cell_type": "code",
   "execution_count": null,
   "id": "2f7cbb8f-6bae-497f-9cd3-aa5ff1a005ca",
   "metadata": {
    "tags": []
   },
   "outputs": [],
   "source": [
    "# Make predictions on the training data\n",
    "predictions = model.predict(train_sequences)\n",
    "\n",
    "# Convert predictions to binary labels (0 or 1)\n",
    "predicted_labels = np.round(predictions).astype(int)\n",
    "\n",
    "# Count the number of positive (1) and negative (0) reviews in the predictions\n",
    "predicted_positive_reviews = sum(label == 1 for label in predicted_labels)\n",
    "predicted_negative_reviews = sum(label == 0 for label in predicted_labels)\n",
    "\n",
    "print(f'Total Predicted Positive Reviews: {predicted_positive_reviews}')\n",
    "print(f'Total Predicted Negative Reviews: {predicted_negative_reviews}')\n",
    "\n",
    "model.summary()"
   ]
  },
  {
   "cell_type": "code",
   "execution_count": null,
   "id": "c6229b9d-d78b-49b9-af62-db1eae52a94c",
   "metadata": {
    "tags": []
   },
   "outputs": [],
   "source": [
    "## The padded sequence allows us to feed the review data into the neural network as input, enabling the model to process and learn from the textual data during training.\n",
    "\n",
    "## By printing the original and padded sequences, we gain insights into how the text data is preprocessed and converted into a format suitable for training the neural network model."
   ]
  },
  {
   "cell_type": "code",
   "execution_count": null,
   "id": "3adee5c0-5776-4c1e-b701-b2442d0200f7",
   "metadata": {
    "tags": []
   },
   "outputs": [],
   "source": [
    "# Print the padded sequence for the first review\n",
    "print(f\"Original Sequence: {train_texts[0]}\")\n",
    "print(f\"Padded Sequence: {train_sequences[0]}\")"
   ]
  },
  {
   "cell_type": "code",
   "execution_count": null,
   "id": "7f2eed46-b0f0-4c9e-8ee6-5f12ec8e2adf",
   "metadata": {
    "tags": []
   },
   "outputs": [],
   "source": [
    "with open('D213_p2_clean.txt', 'w', encoding='utf-8') as file:\n",
    "    for text in train_texts_cleaned:\n",
    "        file.write(text + '\\n')\n",
    "        \n",
    "# Save the model in SavedModel format\n",
    "model.save('D213_p2_saved_model')\n",
    "model.save('nlp_model.h5')"
   ]
  },
  {
   "cell_type": "markdown",
   "id": "9a5cf05b-2dbf-4a33-86e5-2ad3734d4e8e",
   "metadata": {},
   "source": [
    "# Course of Action:\n",
    "## Movie Review Aggregation Platform: We can build a user-friendly platform that aggregates movie reviews from various sources and leverages our NLP model to analyze the sentiment of those reviews. This platform will provide users with quick insights into the overall sentiment towards a movie, enabling them to make informed decisions about which movies to watch based on positive or negative feedback from other viewers.\n",
    "\n",
    "## Content Curation and Recommendation: Incorporating our sentiment analysis model into a content recommendation system, we can offer personalized movie recommendations to users based on their preferences and sentiments. By analyzing user-generated movie reviews, the system can identify movies that align with each user's tastes, leading to a more engaging and satisfying movie-watching experience.\n",
    "\n",
    "## Marketing and Advertising Campaigns: The NLP model's ability to analyze customer sentiment towards specific movies, genres, or actors can be harnessed for marketing and advertising campaigns. With the data insights from the sentiment analysis, movie studios and distributors can tailor their messaging and promotional efforts to resonate better with the target audience, thereby maximizing the impact of their campaigns and driving higher audience engagement.\n",
    "\n",
    "\n",
    "\n",
    "\n"
   ]
  }
 ],
 "metadata": {
  "kernelspec": {
   "display_name": "Python 3 (ipykernel)",
   "language": "python",
   "name": "python3"
  },
  "language_info": {
   "codemirror_mode": {
    "name": "ipython",
    "version": 3
   },
   "file_extension": ".py",
   "mimetype": "text/x-python",
   "name": "python",
   "nbconvert_exporter": "python",
   "pygments_lexer": "ipython3",
   "version": "3.9.18"
  }
 },
 "nbformat": 4,
 "nbformat_minor": 5
}
